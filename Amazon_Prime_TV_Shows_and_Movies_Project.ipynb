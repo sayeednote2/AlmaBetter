{
  "nbformat": 4,
  "nbformat_minor": 0,
  "metadata": {
    "colab": {
      "provenance": [],
      "collapsed_sections": [
        "vncDsAP0Gaoa",
        "beRrZCGUAJYm",
        "yQaldy8SH6Dl",
        "PH-0ReGfmX4f",
        "mDgbUHAGgjLW",
        "O_i_v8NEhb9l",
        "HhfV-JJviCcP",
        "Y3lxredqlCYt",
        "3RnN4peoiCZX",
        "x71ZqKXriCWQ",
        "7hBIi_osiCS2",
        "JlHwYmJAmNHm",
        "35m5QtbWiB9F",
        "PoPl-ycgm1ru",
        "H0kj-8xxnORC",
        "nA9Y7ga8ng1Z",
        "PBTbrJXOngz2",
        "u3PMJOP6ngxN",
        "dauF4eBmngu3",
        "bKJF3rekwFvQ",
        "MSa1f5Uengrz",
        "GF8Ens_Soomf",
        "0wOQAZs5pc--",
        "K5QZ13OEpz2H",
        "lQ7QKXXCp7Bj",
        "448CDAPjqfQr",
        "xJivPyE8q_2k",
        "azX1PEddq_20",
        "iyKleWeyq_20",
        "8-UX51ofq_21",
        "Of3PJYNbrGff",
        "w8bcvZxarGfg",
        "HZ6txCBBrGfh",
        "jbkhcZqdrGfh",
        "riLp7y9brHca",
        "Uw0GT_uHrHcb",
        "qTEiGUKorHcc",
        "1Qw8mtL3rHcd",
        "xnMZvg2orIPt",
        "mwHQVoIQrIPu",
        "Kwy5hImkrIPu",
        "0sjxqkK0rIPv",
        "y7avNpR9HL5z",
        "Z5yPuW4iHL50",
        "3vIdo55JHL50",
        "IlhlbgNBHL51",
        "oQ-pHCWMHO92",
        "DEMFeE18HO92",
        "MR3eS7xTHO93",
        "JmI1Y4YbHO93",
        "XGShqbS2HSAY",
        "B4XxyvTzHSAZ",
        "Mal1wQlpHSAZ",
        "BgP_e3WlHSAZ",
        "I3aNiIh9fKqZ",
        "hTF1e9PwfKqa",
        "1xrBLU6IfKqa",
        "yiLHMWFSfKqb",
        "NC_X3p0fY2L0",
        "UV0SzAkaZNRQ",
        "YPEH6qLeZNRQ",
        "q29F0dvdveiT",
        "EXh0U9oCveiU",
        "22aHeOlLveiV",
        "JcMwzZxoAimU",
        "8G2x9gOozGDZ",
        "gCX9965dhzqZ",
        "gIfDvo9L0UH2"
      ],
      "include_colab_link": true
    },
    "kernelspec": {
      "name": "python3",
      "display_name": "Python 3"
    },
    "language_info": {
      "name": "python"
    }
  },
  "cells": [
    {
      "cell_type": "markdown",
      "metadata": {
        "id": "view-in-github",
        "colab_type": "text"
      },
      "source": [
        "<a href=\"https://colab.research.google.com/github/sayeednote2/AlmaBetter/blob/main/Amazon_Prime_TV_Shows_and_Movies_Project.ipynb\" target=\"_parent\"><img src=\"https://colab.research.google.com/assets/colab-badge.svg\" alt=\"Open In Colab\"/></a>"
      ]
    },
    {
      "cell_type": "markdown",
      "source": [
        "# **Project Name**    -  **Amazon Prime TV Shows and Movies EDA Analysis**\n",
        "\n"
      ],
      "metadata": {
        "id": "vncDsAP0Gaoa"
      }
    },
    {
      "cell_type": "markdown",
      "source": [
        "##### **Project Type**    - EDA\n",
        "##### **Contribution**    - Individual\n"
      ],
      "metadata": {
        "id": "beRrZCGUAJYm"
      }
    },
    {
      "cell_type": "markdown",
      "source": [
        "# **Problem Statement**\n"
      ],
      "metadata": {
        "id": "yQaldy8SH6Dl"
      }
    },
    {
      "cell_type": "markdown",
      "source": [
        "**Business Context**\n",
        "\n",
        "In today's competitive streaming industry, platforms like Amazon Prime Video are constantly expanding their content libraries to cater to diverse audiences. With a growing number of shows and movies available on the platform, data-driven insights play a crucial role in understanding trends, audience preferences, and content strategy.This dataset has data available in the United States.\n"
      ],
      "metadata": {
        "id": "DpeJGUA3kjGy"
      }
    },
    {
      "cell_type": "markdown",
      "source": [
        "#### **Define Your Business Objective?**"
      ],
      "metadata": {
        "id": "PH-0ReGfmX4f"
      }
    },
    {
      "cell_type": "markdown",
      "source": [
        "***Uncover key trends that influence subscription growth, user engagement, and content investment strategies in the streaming industry.***"
      ],
      "metadata": {
        "id": "PhDvGCAqmjP1"
      }
    },
    {
      "cell_type": "markdown",
      "source": [
        "# ***Let's Begin !***"
      ],
      "metadata": {
        "id": "O_i_v8NEhb9l"
      }
    },
    {
      "cell_type": "markdown",
      "source": [
        "### Import Libraries"
      ],
      "metadata": {
        "id": "Y3lxredqlCYt"
      }
    },
    {
      "cell_type": "code",
      "source": [
        "# Import Libraries\n",
        "import numpy as np\n",
        "import pandas as pd\n",
        "import seaborn as sns\n",
        "import matplotlib.pyplot as plt\n",
        "%matplotlib inline\n",
        "import warnings\n",
        "warnings.filterwarnings('ignore')\n",
        "import requests\n",
        "import datetime as dt\n",
        "from zoneinfo import ZoneInfo\n",
        "import ast"
      ],
      "metadata": {
        "id": "M8Vqi-pPk-HR"
      },
      "execution_count": null,
      "outputs": []
    },
    {
      "cell_type": "markdown",
      "source": [
        "### Dataset Loading"
      ],
      "metadata": {
        "id": "3RnN4peoiCZX"
      }
    },
    {
      "cell_type": "code",
      "source": [
        "titles_path = 'https://drive.google.com/file/d/1AENpSppSxobBRaMQ6bXojGrfYvjKal0I/view?usp=sharing'\n",
        "# Extract the file ID from the sharing link\n",
        "titles_file_id = titles_path.split('/')[-2] # 1AENpSppSxobBRaMQ6bXojGrfYvjKal0I\n",
        "# Construct the direct download URL\n",
        "titles_url = f'https://drive.google.com/uc?id={titles_file_id}'\n",
        "titles_df = pd.read_csv(titles_url)\n",
        "\n",
        "credits_path = 'https://drive.google.com/file/d/18S6C8gA5OcVNbBQKlFNz2EjC_e75y6Of/view?usp=sharing'\n",
        "credits_file_id = credits_path.split('/')[-2] # 18S6C8gA5OcVNbBQKlFNz2EjC_e75y6Of\n",
        "credits_url = f'https://drive.google.com/uc?id={credits_file_id}'\n",
        "credits_df = pd.read_csv(credits_url)"
      ],
      "metadata": {
        "id": "2RlWgfC3ci81"
      },
      "execution_count": null,
      "outputs": []
    },
    {
      "cell_type": "markdown",
      "source": [
        "# ***1. Understanding the Data***"
      ],
      "metadata": {
        "id": "HhfV-JJviCcP"
      }
    },
    {
      "cell_type": "markdown",
      "source": [
        "## **a) DataSet column Description**"
      ],
      "metadata": {
        "id": "nA9Y7ga8ng1Z"
      }
    },
    {
      "cell_type": "markdown",
      "source": [
        "### Titles DataSet column Description."
      ],
      "metadata": {
        "id": "PBTbrJXOngz2"
      }
    },
    {
      "cell_type": "markdown",
      "source": [
        "* **id**                  :The title ID.\n",
        "\n",
        "* **title**         :The name of the title.\n",
        "\n",
        "* **show_type**            :TV show or movie.\n",
        "\n",
        "* **description**              :A brief description.\n",
        "\n",
        "* **release_year**             :The release year.\n",
        "\n",
        "* **age_certification**          :The age certification.\n",
        "\n",
        "* **runtime**              :The length of the episode (SHOW) or movie.\n",
        "\n",
        "* **genres**         :A list of genres.\n",
        "* **production_countries**: A list of countries that produced the title.\n",
        "* **seasons**: Number of seasons if it's a SHOW.\n",
        "* **imdb_id**: The title ID on IMDB.\n",
        "* **imdb_score**: Score on IMDB.\n",
        "* **imdb_votes**: Votes on IMDB.\n",
        "* **tmdb_popularity**: Popularity on TMDB.\n",
        "* **tmdb_score**: Score on TMDB."
      ],
      "metadata": {
        "id": "aJV4KIxSnxay"
      }
    },
    {
      "cell_type": "markdown",
      "source": [
        "### Credits DataSet column Description."
      ],
      "metadata": {
        "id": "dsJ2fBdP380e"
      }
    },
    {
      "cell_type": "markdown",
      "source": [
        "* **person_ID**: The person ID on JustWatch.\n",
        "* **id**: The title ID on JustWatch.\n",
        "* **name**: The actor or director's name.\n",
        "* **character_name**: The character name.\n",
        "* **role**: ACTOR or DIRECTOR."
      ],
      "metadata": {
        "id": "Llx0F0x15AgF"
      }
    },
    {
      "cell_type": "markdown",
      "source": [
        "## **b) Columns of the DataSet**"
      ],
      "metadata": {
        "id": "w86mNlAG1uV6"
      }
    },
    {
      "cell_type": "code",
      "source": [
        "# Titles Dataset Columns\n",
        "titles_df.columns"
      ],
      "metadata": {
        "colab": {
          "base_uri": "https://localhost:8080/"
        },
        "id": "53qCs1Kt1xlT",
        "outputId": "3ca28e9f-4ffe-45df-eb44-6ccbe6ffb42f"
      },
      "execution_count": null,
      "outputs": [
        {
          "output_type": "execute_result",
          "data": {
            "text/plain": [
              "Index(['id', 'title', 'type', 'description', 'release_year',\n",
              "       'age_certification', 'runtime', 'genres', 'production_countries',\n",
              "       'seasons', 'imdb_id', 'imdb_score', 'imdb_votes', 'tmdb_popularity',\n",
              "       'tmdb_score'],\n",
              "      dtype='object')"
            ]
          },
          "metadata": {},
          "execution_count": 3
        }
      ]
    },
    {
      "cell_type": "code",
      "source": [
        "# Credits Dataset Columns\n",
        "credits_df.columns"
      ],
      "metadata": {
        "colab": {
          "base_uri": "https://localhost:8080/"
        },
        "id": "bQFWwZs-15ME",
        "outputId": "500c93f9-c089-41ed-cddd-5922da9a98dd"
      },
      "execution_count": null,
      "outputs": [
        {
          "output_type": "execute_result",
          "data": {
            "text/plain": [
              "Index(['person_id', 'id', 'name', 'character', 'role'], dtype='object')"
            ]
          },
          "metadata": {},
          "execution_count": 4
        }
      ]
    },
    {
      "cell_type": "markdown",
      "source": [
        "## **c) Head of the DataSet**"
      ],
      "metadata": {
        "id": "J6pvlN-Qk3xM"
      }
    },
    {
      "cell_type": "code",
      "source": [
        "#First 3 rows of Titles DataSet\n",
        "titles_df.head(3)"
      ],
      "metadata": {
        "id": "LWNFOSvLl09H",
        "colab": {
          "base_uri": "https://localhost:8080/"
        },
        "outputId": "9e7f1e1a-494a-48b0-ec99-2fe427ab4cdf"
      },
      "execution_count": null,
      "outputs": [
        {
          "output_type": "execute_result",
          "data": {
            "text/plain": [
              "        id                        title   type  \\\n",
              "0  ts20945            The Three Stooges   SHOW   \n",
              "1  tm19248                  The General  MOVIE   \n",
              "2  tm82253  The Best Years of Our Lives  MOVIE   \n",
              "\n",
              "                                         description  release_year  \\\n",
              "0  The Three Stooges were an American vaudeville ...          1934   \n",
              "1  During America’s Civil War, Union spies steal ...          1926   \n",
              "2  It's the hope that sustains the spirit of ever...          1946   \n",
              "\n",
              "  age_certification  runtime  \\\n",
              "0             TV-PG       19   \n",
              "1               NaN       78   \n",
              "2               NaN      171   \n",
              "\n",
              "                                              genres production_countries  \\\n",
              "0  ['comedy', 'family', 'animation', 'action', 'f...               ['US']   \n",
              "1  ['action', 'drama', 'war', 'western', 'comedy'...               ['US']   \n",
              "2                        ['romance', 'war', 'drama']               ['US']   \n",
              "\n",
              "   seasons    imdb_id  imdb_score  imdb_votes  tmdb_popularity  tmdb_score  \n",
              "0     26.0  tt0850645         8.6      1092.0           15.424         7.6  \n",
              "1      NaN  tt0017925         8.2     89766.0            8.647         8.0  \n",
              "2      NaN  tt0036868         8.1     63026.0            8.435         7.8  "
            ],
            "text/html": [
              "\n",
              "  <div id=\"df-40f1e49a-dd4c-4f62-9453-02ab60ae667b\" class=\"colab-df-container\">\n",
              "    <div>\n",
              "<style scoped>\n",
              "    .dataframe tbody tr th:only-of-type {\n",
              "        vertical-align: middle;\n",
              "    }\n",
              "\n",
              "    .dataframe tbody tr th {\n",
              "        vertical-align: top;\n",
              "    }\n",
              "\n",
              "    .dataframe thead th {\n",
              "        text-align: right;\n",
              "    }\n",
              "</style>\n",
              "<table border=\"1\" class=\"dataframe\">\n",
              "  <thead>\n",
              "    <tr style=\"text-align: right;\">\n",
              "      <th></th>\n",
              "      <th>id</th>\n",
              "      <th>title</th>\n",
              "      <th>type</th>\n",
              "      <th>description</th>\n",
              "      <th>release_year</th>\n",
              "      <th>age_certification</th>\n",
              "      <th>runtime</th>\n",
              "      <th>genres</th>\n",
              "      <th>production_countries</th>\n",
              "      <th>seasons</th>\n",
              "      <th>imdb_id</th>\n",
              "      <th>imdb_score</th>\n",
              "      <th>imdb_votes</th>\n",
              "      <th>tmdb_popularity</th>\n",
              "      <th>tmdb_score</th>\n",
              "    </tr>\n",
              "  </thead>\n",
              "  <tbody>\n",
              "    <tr>\n",
              "      <th>0</th>\n",
              "      <td>ts20945</td>\n",
              "      <td>The Three Stooges</td>\n",
              "      <td>SHOW</td>\n",
              "      <td>The Three Stooges were an American vaudeville ...</td>\n",
              "      <td>1934</td>\n",
              "      <td>TV-PG</td>\n",
              "      <td>19</td>\n",
              "      <td>['comedy', 'family', 'animation', 'action', 'f...</td>\n",
              "      <td>['US']</td>\n",
              "      <td>26.0</td>\n",
              "      <td>tt0850645</td>\n",
              "      <td>8.6</td>\n",
              "      <td>1092.0</td>\n",
              "      <td>15.424</td>\n",
              "      <td>7.6</td>\n",
              "    </tr>\n",
              "    <tr>\n",
              "      <th>1</th>\n",
              "      <td>tm19248</td>\n",
              "      <td>The General</td>\n",
              "      <td>MOVIE</td>\n",
              "      <td>During America’s Civil War, Union spies steal ...</td>\n",
              "      <td>1926</td>\n",
              "      <td>NaN</td>\n",
              "      <td>78</td>\n",
              "      <td>['action', 'drama', 'war', 'western', 'comedy'...</td>\n",
              "      <td>['US']</td>\n",
              "      <td>NaN</td>\n",
              "      <td>tt0017925</td>\n",
              "      <td>8.2</td>\n",
              "      <td>89766.0</td>\n",
              "      <td>8.647</td>\n",
              "      <td>8.0</td>\n",
              "    </tr>\n",
              "    <tr>\n",
              "      <th>2</th>\n",
              "      <td>tm82253</td>\n",
              "      <td>The Best Years of Our Lives</td>\n",
              "      <td>MOVIE</td>\n",
              "      <td>It's the hope that sustains the spirit of ever...</td>\n",
              "      <td>1946</td>\n",
              "      <td>NaN</td>\n",
              "      <td>171</td>\n",
              "      <td>['romance', 'war', 'drama']</td>\n",
              "      <td>['US']</td>\n",
              "      <td>NaN</td>\n",
              "      <td>tt0036868</td>\n",
              "      <td>8.1</td>\n",
              "      <td>63026.0</td>\n",
              "      <td>8.435</td>\n",
              "      <td>7.8</td>\n",
              "    </tr>\n",
              "  </tbody>\n",
              "</table>\n",
              "</div>\n",
              "    <div class=\"colab-df-buttons\">\n",
              "\n",
              "  <div class=\"colab-df-container\">\n",
              "    <button class=\"colab-df-convert\" onclick=\"convertToInteractive('df-40f1e49a-dd4c-4f62-9453-02ab60ae667b')\"\n",
              "            title=\"Convert this dataframe to an interactive table.\"\n",
              "            style=\"display:none;\">\n",
              "\n",
              "  <svg xmlns=\"http://www.w3.org/2000/svg\" height=\"24px\" viewBox=\"0 -960 960 960\">\n",
              "    <path d=\"M120-120v-720h720v720H120Zm60-500h600v-160H180v160Zm220 220h160v-160H400v160Zm0 220h160v-160H400v160ZM180-400h160v-160H180v160Zm440 0h160v-160H620v160ZM180-180h160v-160H180v160Zm440 0h160v-160H620v160Z\"/>\n",
              "  </svg>\n",
              "    </button>\n",
              "\n",
              "  <style>\n",
              "    .colab-df-container {\n",
              "      display:flex;\n",
              "      gap: 12px;\n",
              "    }\n",
              "\n",
              "    .colab-df-convert {\n",
              "      background-color: #E8F0FE;\n",
              "      border: none;\n",
              "      border-radius: 50%;\n",
              "      cursor: pointer;\n",
              "      display: none;\n",
              "      fill: #1967D2;\n",
              "      height: 32px;\n",
              "      padding: 0 0 0 0;\n",
              "      width: 32px;\n",
              "    }\n",
              "\n",
              "    .colab-df-convert:hover {\n",
              "      background-color: #E2EBFA;\n",
              "      box-shadow: 0px 1px 2px rgba(60, 64, 67, 0.3), 0px 1px 3px 1px rgba(60, 64, 67, 0.15);\n",
              "      fill: #174EA6;\n",
              "    }\n",
              "\n",
              "    .colab-df-buttons div {\n",
              "      margin-bottom: 4px;\n",
              "    }\n",
              "\n",
              "    [theme=dark] .colab-df-convert {\n",
              "      background-color: #3B4455;\n",
              "      fill: #D2E3FC;\n",
              "    }\n",
              "\n",
              "    [theme=dark] .colab-df-convert:hover {\n",
              "      background-color: #434B5C;\n",
              "      box-shadow: 0px 1px 3px 1px rgba(0, 0, 0, 0.15);\n",
              "      filter: drop-shadow(0px 1px 2px rgba(0, 0, 0, 0.3));\n",
              "      fill: #FFFFFF;\n",
              "    }\n",
              "  </style>\n",
              "\n",
              "    <script>\n",
              "      const buttonEl =\n",
              "        document.querySelector('#df-40f1e49a-dd4c-4f62-9453-02ab60ae667b button.colab-df-convert');\n",
              "      buttonEl.style.display =\n",
              "        google.colab.kernel.accessAllowed ? 'block' : 'none';\n",
              "\n",
              "      async function convertToInteractive(key) {\n",
              "        const element = document.querySelector('#df-40f1e49a-dd4c-4f62-9453-02ab60ae667b');\n",
              "        const dataTable =\n",
              "          await google.colab.kernel.invokeFunction('convertToInteractive',\n",
              "                                                    [key], {});\n",
              "        if (!dataTable) return;\n",
              "\n",
              "        const docLinkHtml = 'Like what you see? Visit the ' +\n",
              "          '<a target=\"_blank\" href=https://colab.research.google.com/notebooks/data_table.ipynb>data table notebook</a>'\n",
              "          + ' to learn more about interactive tables.';\n",
              "        element.innerHTML = '';\n",
              "        dataTable['output_type'] = 'display_data';\n",
              "        await google.colab.output.renderOutput(dataTable, element);\n",
              "        const docLink = document.createElement('div');\n",
              "        docLink.innerHTML = docLinkHtml;\n",
              "        element.appendChild(docLink);\n",
              "      }\n",
              "    </script>\n",
              "  </div>\n",
              "\n",
              "\n",
              "    <div id=\"df-da661265-f0bd-49bb-8357-f464347d21ef\">\n",
              "      <button class=\"colab-df-quickchart\" onclick=\"quickchart('df-da661265-f0bd-49bb-8357-f464347d21ef')\"\n",
              "                title=\"Suggest charts\"\n",
              "                style=\"display:none;\">\n",
              "\n",
              "<svg xmlns=\"http://www.w3.org/2000/svg\" height=\"24px\"viewBox=\"0 0 24 24\"\n",
              "     width=\"24px\">\n",
              "    <g>\n",
              "        <path d=\"M19 3H5c-1.1 0-2 .9-2 2v14c0 1.1.9 2 2 2h14c1.1 0 2-.9 2-2V5c0-1.1-.9-2-2-2zM9 17H7v-7h2v7zm4 0h-2V7h2v10zm4 0h-2v-4h2v4z\"/>\n",
              "    </g>\n",
              "</svg>\n",
              "      </button>\n",
              "\n",
              "<style>\n",
              "  .colab-df-quickchart {\n",
              "      --bg-color: #E8F0FE;\n",
              "      --fill-color: #1967D2;\n",
              "      --hover-bg-color: #E2EBFA;\n",
              "      --hover-fill-color: #174EA6;\n",
              "      --disabled-fill-color: #AAA;\n",
              "      --disabled-bg-color: #DDD;\n",
              "  }\n",
              "\n",
              "  [theme=dark] .colab-df-quickchart {\n",
              "      --bg-color: #3B4455;\n",
              "      --fill-color: #D2E3FC;\n",
              "      --hover-bg-color: #434B5C;\n",
              "      --hover-fill-color: #FFFFFF;\n",
              "      --disabled-bg-color: #3B4455;\n",
              "      --disabled-fill-color: #666;\n",
              "  }\n",
              "\n",
              "  .colab-df-quickchart {\n",
              "    background-color: var(--bg-color);\n",
              "    border: none;\n",
              "    border-radius: 50%;\n",
              "    cursor: pointer;\n",
              "    display: none;\n",
              "    fill: var(--fill-color);\n",
              "    height: 32px;\n",
              "    padding: 0;\n",
              "    width: 32px;\n",
              "  }\n",
              "\n",
              "  .colab-df-quickchart:hover {\n",
              "    background-color: var(--hover-bg-color);\n",
              "    box-shadow: 0 1px 2px rgba(60, 64, 67, 0.3), 0 1px 3px 1px rgba(60, 64, 67, 0.15);\n",
              "    fill: var(--button-hover-fill-color);\n",
              "  }\n",
              "\n",
              "  .colab-df-quickchart-complete:disabled,\n",
              "  .colab-df-quickchart-complete:disabled:hover {\n",
              "    background-color: var(--disabled-bg-color);\n",
              "    fill: var(--disabled-fill-color);\n",
              "    box-shadow: none;\n",
              "  }\n",
              "\n",
              "  .colab-df-spinner {\n",
              "    border: 2px solid var(--fill-color);\n",
              "    border-color: transparent;\n",
              "    border-bottom-color: var(--fill-color);\n",
              "    animation:\n",
              "      spin 1s steps(1) infinite;\n",
              "  }\n",
              "\n",
              "  @keyframes spin {\n",
              "    0% {\n",
              "      border-color: transparent;\n",
              "      border-bottom-color: var(--fill-color);\n",
              "      border-left-color: var(--fill-color);\n",
              "    }\n",
              "    20% {\n",
              "      border-color: transparent;\n",
              "      border-left-color: var(--fill-color);\n",
              "      border-top-color: var(--fill-color);\n",
              "    }\n",
              "    30% {\n",
              "      border-color: transparent;\n",
              "      border-left-color: var(--fill-color);\n",
              "      border-top-color: var(--fill-color);\n",
              "      border-right-color: var(--fill-color);\n",
              "    }\n",
              "    40% {\n",
              "      border-color: transparent;\n",
              "      border-right-color: var(--fill-color);\n",
              "      border-top-color: var(--fill-color);\n",
              "    }\n",
              "    60% {\n",
              "      border-color: transparent;\n",
              "      border-right-color: var(--fill-color);\n",
              "    }\n",
              "    80% {\n",
              "      border-color: transparent;\n",
              "      border-right-color: var(--fill-color);\n",
              "      border-bottom-color: var(--fill-color);\n",
              "    }\n",
              "    90% {\n",
              "      border-color: transparent;\n",
              "      border-bottom-color: var(--fill-color);\n",
              "    }\n",
              "  }\n",
              "</style>\n",
              "\n",
              "      <script>\n",
              "        async function quickchart(key) {\n",
              "          const quickchartButtonEl =\n",
              "            document.querySelector('#' + key + ' button');\n",
              "          quickchartButtonEl.disabled = true;  // To prevent multiple clicks.\n",
              "          quickchartButtonEl.classList.add('colab-df-spinner');\n",
              "          try {\n",
              "            const charts = await google.colab.kernel.invokeFunction(\n",
              "                'suggestCharts', [key], {});\n",
              "          } catch (error) {\n",
              "            console.error('Error during call to suggestCharts:', error);\n",
              "          }\n",
              "          quickchartButtonEl.classList.remove('colab-df-spinner');\n",
              "          quickchartButtonEl.classList.add('colab-df-quickchart-complete');\n",
              "        }\n",
              "        (() => {\n",
              "          let quickchartButtonEl =\n",
              "            document.querySelector('#df-da661265-f0bd-49bb-8357-f464347d21ef button');\n",
              "          quickchartButtonEl.style.display =\n",
              "            google.colab.kernel.accessAllowed ? 'block' : 'none';\n",
              "        })();\n",
              "      </script>\n",
              "    </div>\n",
              "\n",
              "    </div>\n",
              "  </div>\n"
            ],
            "application/vnd.google.colaboratory.intrinsic+json": {
              "type": "dataframe",
              "variable_name": "titles_df",
              "summary": "{\n  \"name\": \"titles_df\",\n  \"rows\": 9871,\n  \"fields\": [\n    {\n      \"column\": \"id\",\n      \"properties\": {\n        \"dtype\": \"string\",\n        \"num_unique_values\": 9868,\n        \"samples\": [\n          \"tm39982\",\n          \"tm191600\",\n          \"tm1016257\"\n        ],\n        \"semantic_type\": \"\",\n        \"description\": \"\"\n      }\n    },\n    {\n      \"column\": \"title\",\n      \"properties\": {\n        \"dtype\": \"string\",\n        \"num_unique_values\": 9737,\n        \"samples\": [\n          \"Bhoot Chaturdashi\",\n          \"The Elephant in the Living Room\",\n          \"Always Greener\"\n        ],\n        \"semantic_type\": \"\",\n        \"description\": \"\"\n      }\n    },\n    {\n      \"column\": \"type\",\n      \"properties\": {\n        \"dtype\": \"category\",\n        \"num_unique_values\": 2,\n        \"samples\": [\n          \"MOVIE\",\n          \"SHOW\"\n        ],\n        \"semantic_type\": \"\",\n        \"description\": \"\"\n      }\n    },\n    {\n      \"column\": \"description\",\n      \"properties\": {\n        \"dtype\": \"string\",\n        \"num_unique_values\": 9734,\n        \"samples\": [\n          \"When the head of a statue sacred to a village is stolen, a young martial artist goes to the big city and finds himself taking on the underworld to retrieve it.\",\n          \"When a half-beast mercenary teams up with a witch who is in search of a magical tome that can destroy the world, a grand adventure ensues.  Despite his hatred of witches, he enters an agreement that shewill make him human once she reaches her goal.\"\n        ],\n        \"semantic_type\": \"\",\n        \"description\": \"\"\n      }\n    },\n    {\n      \"column\": \"release_year\",\n      \"properties\": {\n        \"dtype\": \"number\",\n        \"std\": 25,\n        \"min\": 1912,\n        \"max\": 2022,\n        \"num_unique_values\": 110,\n        \"samples\": [\n          1992,\n          1938\n        ],\n        \"semantic_type\": \"\",\n        \"description\": \"\"\n      }\n    },\n    {\n      \"column\": \"age_certification\",\n      \"properties\": {\n        \"dtype\": \"category\",\n        \"num_unique_values\": 11,\n        \"samples\": [\n          \"TV-G\",\n          \"TV-PG\"\n        ],\n        \"semantic_type\": \"\",\n        \"description\": \"\"\n      }\n    },\n    {\n      \"column\": \"runtime\",\n      \"properties\": {\n        \"dtype\": \"number\",\n        \"std\": 33,\n        \"min\": 1,\n        \"max\": 549,\n        \"num_unique_values\": 207,\n        \"samples\": [\n          174,\n          70\n        ],\n        \"semantic_type\": \"\",\n        \"description\": \"\"\n      }\n    },\n    {\n      \"column\": \"genres\",\n      \"properties\": {\n        \"dtype\": \"category\",\n        \"num_unique_values\": 2028,\n        \"samples\": [\n          \"['war', 'drama', 'action']\",\n          \"['documentation', 'reality', 'european']\"\n        ],\n        \"semantic_type\": \"\",\n        \"description\": \"\"\n      }\n    },\n    {\n      \"column\": \"production_countries\",\n      \"properties\": {\n        \"dtype\": \"category\",\n        \"num_unique_values\": 497,\n        \"samples\": [\n          \"['SK', 'CZ', 'DE']\",\n          \"['ES', 'DE', 'IT', 'MC']\"\n        ],\n        \"semantic_type\": \"\",\n        \"description\": \"\"\n      }\n    },\n    {\n      \"column\": \"seasons\",\n      \"properties\": {\n        \"dtype\": \"number\",\n        \"std\": 4.148957721772518,\n        \"min\": 1.0,\n        \"max\": 51.0,\n        \"num_unique_values\": 32,\n        \"samples\": [\n          21.0,\n          7.0\n        ],\n        \"semantic_type\": \"\",\n        \"description\": \"\"\n      }\n    },\n    {\n      \"column\": \"imdb_id\",\n      \"properties\": {\n        \"dtype\": \"string\",\n        \"num_unique_values\": 9201,\n        \"samples\": [\n          \"tt5986716\",\n          \"tt1498567\"\n        ],\n        \"semantic_type\": \"\",\n        \"description\": \"\"\n      }\n    },\n    {\n      \"column\": \"imdb_score\",\n      \"properties\": {\n        \"dtype\": \"number\",\n        \"std\": 1.3438415684624783,\n        \"min\": 1.1,\n        \"max\": 9.9,\n        \"num_unique_values\": 86,\n        \"samples\": [\n          1.3,\n          8.6\n        ],\n        \"semantic_type\": \"\",\n        \"description\": \"\"\n      }\n    },\n    {\n      \"column\": \"imdb_votes\",\n      \"properties\": {\n        \"dtype\": \"number\",\n        \"std\": 45920.15190464956,\n        \"min\": 5.0,\n        \"max\": 1133692.0,\n        \"num_unique_values\": 3650,\n        \"samples\": [\n          23155.0,\n          95444.0\n        ],\n        \"semantic_type\": \"\",\n        \"description\": \"\"\n      }\n    },\n    {\n      \"column\": \"tmdb_popularity\",\n      \"properties\": {\n        \"dtype\": \"number\",\n        \"std\": 30.00409812190441,\n        \"min\": 1.1e-05,\n        \"max\": 1437.906,\n        \"num_unique_values\": 5325,\n        \"samples\": [\n          1.862,\n          22.778\n        ],\n        \"semantic_type\": \"\",\n        \"description\": \"\"\n      }\n    },\n    {\n      \"column\": \"tmdb_score\",\n      \"properties\": {\n        \"dtype\": \"number\",\n        \"std\": 1.517985696177201,\n        \"min\": 0.8,\n        \"max\": 10.0,\n        \"num_unique_values\": 89,\n        \"samples\": [\n          3.0,\n          1.0\n        ],\n        \"semantic_type\": \"\",\n        \"description\": \"\"\n      }\n    }\n  ]\n}"
            }
          },
          "metadata": {},
          "execution_count": 5
        }
      ]
    },
    {
      "cell_type": "code",
      "source": [
        "#First 3 rows of Credits DataSet\n",
        "credits_df.head(3)"
      ],
      "metadata": {
        "colab": {
          "base_uri": "https://localhost:8080/"
        },
        "id": "xeDkVTule9vH",
        "outputId": "b2c7e845-9a1b-4735-ea49-df6faa8eada0"
      },
      "execution_count": null,
      "outputs": [
        {
          "output_type": "execute_result",
          "data": {
            "text/plain": [
              "   person_id       id        name character   role\n",
              "0      59401  ts20945  Joe Besser       Joe  ACTOR\n",
              "1      31460  ts20945  Moe Howard       Moe  ACTOR\n",
              "2      31461  ts20945  Larry Fine     Larry  ACTOR"
            ],
            "text/html": [
              "\n",
              "  <div id=\"df-32343001-1f2e-4177-8f9e-646802130613\" class=\"colab-df-container\">\n",
              "    <div>\n",
              "<style scoped>\n",
              "    .dataframe tbody tr th:only-of-type {\n",
              "        vertical-align: middle;\n",
              "    }\n",
              "\n",
              "    .dataframe tbody tr th {\n",
              "        vertical-align: top;\n",
              "    }\n",
              "\n",
              "    .dataframe thead th {\n",
              "        text-align: right;\n",
              "    }\n",
              "</style>\n",
              "<table border=\"1\" class=\"dataframe\">\n",
              "  <thead>\n",
              "    <tr style=\"text-align: right;\">\n",
              "      <th></th>\n",
              "      <th>person_id</th>\n",
              "      <th>id</th>\n",
              "      <th>name</th>\n",
              "      <th>character</th>\n",
              "      <th>role</th>\n",
              "    </tr>\n",
              "  </thead>\n",
              "  <tbody>\n",
              "    <tr>\n",
              "      <th>0</th>\n",
              "      <td>59401</td>\n",
              "      <td>ts20945</td>\n",
              "      <td>Joe Besser</td>\n",
              "      <td>Joe</td>\n",
              "      <td>ACTOR</td>\n",
              "    </tr>\n",
              "    <tr>\n",
              "      <th>1</th>\n",
              "      <td>31460</td>\n",
              "      <td>ts20945</td>\n",
              "      <td>Moe Howard</td>\n",
              "      <td>Moe</td>\n",
              "      <td>ACTOR</td>\n",
              "    </tr>\n",
              "    <tr>\n",
              "      <th>2</th>\n",
              "      <td>31461</td>\n",
              "      <td>ts20945</td>\n",
              "      <td>Larry Fine</td>\n",
              "      <td>Larry</td>\n",
              "      <td>ACTOR</td>\n",
              "    </tr>\n",
              "  </tbody>\n",
              "</table>\n",
              "</div>\n",
              "    <div class=\"colab-df-buttons\">\n",
              "\n",
              "  <div class=\"colab-df-container\">\n",
              "    <button class=\"colab-df-convert\" onclick=\"convertToInteractive('df-32343001-1f2e-4177-8f9e-646802130613')\"\n",
              "            title=\"Convert this dataframe to an interactive table.\"\n",
              "            style=\"display:none;\">\n",
              "\n",
              "  <svg xmlns=\"http://www.w3.org/2000/svg\" height=\"24px\" viewBox=\"0 -960 960 960\">\n",
              "    <path d=\"M120-120v-720h720v720H120Zm60-500h600v-160H180v160Zm220 220h160v-160H400v160Zm0 220h160v-160H400v160ZM180-400h160v-160H180v160Zm440 0h160v-160H620v160ZM180-180h160v-160H180v160Zm440 0h160v-160H620v160Z\"/>\n",
              "  </svg>\n",
              "    </button>\n",
              "\n",
              "  <style>\n",
              "    .colab-df-container {\n",
              "      display:flex;\n",
              "      gap: 12px;\n",
              "    }\n",
              "\n",
              "    .colab-df-convert {\n",
              "      background-color: #E8F0FE;\n",
              "      border: none;\n",
              "      border-radius: 50%;\n",
              "      cursor: pointer;\n",
              "      display: none;\n",
              "      fill: #1967D2;\n",
              "      height: 32px;\n",
              "      padding: 0 0 0 0;\n",
              "      width: 32px;\n",
              "    }\n",
              "\n",
              "    .colab-df-convert:hover {\n",
              "      background-color: #E2EBFA;\n",
              "      box-shadow: 0px 1px 2px rgba(60, 64, 67, 0.3), 0px 1px 3px 1px rgba(60, 64, 67, 0.15);\n",
              "      fill: #174EA6;\n",
              "    }\n",
              "\n",
              "    .colab-df-buttons div {\n",
              "      margin-bottom: 4px;\n",
              "    }\n",
              "\n",
              "    [theme=dark] .colab-df-convert {\n",
              "      background-color: #3B4455;\n",
              "      fill: #D2E3FC;\n",
              "    }\n",
              "\n",
              "    [theme=dark] .colab-df-convert:hover {\n",
              "      background-color: #434B5C;\n",
              "      box-shadow: 0px 1px 3px 1px rgba(0, 0, 0, 0.15);\n",
              "      filter: drop-shadow(0px 1px 2px rgba(0, 0, 0, 0.3));\n",
              "      fill: #FFFFFF;\n",
              "    }\n",
              "  </style>\n",
              "\n",
              "    <script>\n",
              "      const buttonEl =\n",
              "        document.querySelector('#df-32343001-1f2e-4177-8f9e-646802130613 button.colab-df-convert');\n",
              "      buttonEl.style.display =\n",
              "        google.colab.kernel.accessAllowed ? 'block' : 'none';\n",
              "\n",
              "      async function convertToInteractive(key) {\n",
              "        const element = document.querySelector('#df-32343001-1f2e-4177-8f9e-646802130613');\n",
              "        const dataTable =\n",
              "          await google.colab.kernel.invokeFunction('convertToInteractive',\n",
              "                                                    [key], {});\n",
              "        if (!dataTable) return;\n",
              "\n",
              "        const docLinkHtml = 'Like what you see? Visit the ' +\n",
              "          '<a target=\"_blank\" href=https://colab.research.google.com/notebooks/data_table.ipynb>data table notebook</a>'\n",
              "          + ' to learn more about interactive tables.';\n",
              "        element.innerHTML = '';\n",
              "        dataTable['output_type'] = 'display_data';\n",
              "        await google.colab.output.renderOutput(dataTable, element);\n",
              "        const docLink = document.createElement('div');\n",
              "        docLink.innerHTML = docLinkHtml;\n",
              "        element.appendChild(docLink);\n",
              "      }\n",
              "    </script>\n",
              "  </div>\n",
              "\n",
              "\n",
              "    <div id=\"df-813add03-be5a-4978-aaa3-81575f00e6e4\">\n",
              "      <button class=\"colab-df-quickchart\" onclick=\"quickchart('df-813add03-be5a-4978-aaa3-81575f00e6e4')\"\n",
              "                title=\"Suggest charts\"\n",
              "                style=\"display:none;\">\n",
              "\n",
              "<svg xmlns=\"http://www.w3.org/2000/svg\" height=\"24px\"viewBox=\"0 0 24 24\"\n",
              "     width=\"24px\">\n",
              "    <g>\n",
              "        <path d=\"M19 3H5c-1.1 0-2 .9-2 2v14c0 1.1.9 2 2 2h14c1.1 0 2-.9 2-2V5c0-1.1-.9-2-2-2zM9 17H7v-7h2v7zm4 0h-2V7h2v10zm4 0h-2v-4h2v4z\"/>\n",
              "    </g>\n",
              "</svg>\n",
              "      </button>\n",
              "\n",
              "<style>\n",
              "  .colab-df-quickchart {\n",
              "      --bg-color: #E8F0FE;\n",
              "      --fill-color: #1967D2;\n",
              "      --hover-bg-color: #E2EBFA;\n",
              "      --hover-fill-color: #174EA6;\n",
              "      --disabled-fill-color: #AAA;\n",
              "      --disabled-bg-color: #DDD;\n",
              "  }\n",
              "\n",
              "  [theme=dark] .colab-df-quickchart {\n",
              "      --bg-color: #3B4455;\n",
              "      --fill-color: #D2E3FC;\n",
              "      --hover-bg-color: #434B5C;\n",
              "      --hover-fill-color: #FFFFFF;\n",
              "      --disabled-bg-color: #3B4455;\n",
              "      --disabled-fill-color: #666;\n",
              "  }\n",
              "\n",
              "  .colab-df-quickchart {\n",
              "    background-color: var(--bg-color);\n",
              "    border: none;\n",
              "    border-radius: 50%;\n",
              "    cursor: pointer;\n",
              "    display: none;\n",
              "    fill: var(--fill-color);\n",
              "    height: 32px;\n",
              "    padding: 0;\n",
              "    width: 32px;\n",
              "  }\n",
              "\n",
              "  .colab-df-quickchart:hover {\n",
              "    background-color: var(--hover-bg-color);\n",
              "    box-shadow: 0 1px 2px rgba(60, 64, 67, 0.3), 0 1px 3px 1px rgba(60, 64, 67, 0.15);\n",
              "    fill: var(--button-hover-fill-color);\n",
              "  }\n",
              "\n",
              "  .colab-df-quickchart-complete:disabled,\n",
              "  .colab-df-quickchart-complete:disabled:hover {\n",
              "    background-color: var(--disabled-bg-color);\n",
              "    fill: var(--disabled-fill-color);\n",
              "    box-shadow: none;\n",
              "  }\n",
              "\n",
              "  .colab-df-spinner {\n",
              "    border: 2px solid var(--fill-color);\n",
              "    border-color: transparent;\n",
              "    border-bottom-color: var(--fill-color);\n",
              "    animation:\n",
              "      spin 1s steps(1) infinite;\n",
              "  }\n",
              "\n",
              "  @keyframes spin {\n",
              "    0% {\n",
              "      border-color: transparent;\n",
              "      border-bottom-color: var(--fill-color);\n",
              "      border-left-color: var(--fill-color);\n",
              "    }\n",
              "    20% {\n",
              "      border-color: transparent;\n",
              "      border-left-color: var(--fill-color);\n",
              "      border-top-color: var(--fill-color);\n",
              "    }\n",
              "    30% {\n",
              "      border-color: transparent;\n",
              "      border-left-color: var(--fill-color);\n",
              "      border-top-color: var(--fill-color);\n",
              "      border-right-color: var(--fill-color);\n",
              "    }\n",
              "    40% {\n",
              "      border-color: transparent;\n",
              "      border-right-color: var(--fill-color);\n",
              "      border-top-color: var(--fill-color);\n",
              "    }\n",
              "    60% {\n",
              "      border-color: transparent;\n",
              "      border-right-color: var(--fill-color);\n",
              "    }\n",
              "    80% {\n",
              "      border-color: transparent;\n",
              "      border-right-color: var(--fill-color);\n",
              "      border-bottom-color: var(--fill-color);\n",
              "    }\n",
              "    90% {\n",
              "      border-color: transparent;\n",
              "      border-bottom-color: var(--fill-color);\n",
              "    }\n",
              "  }\n",
              "</style>\n",
              "\n",
              "      <script>\n",
              "        async function quickchart(key) {\n",
              "          const quickchartButtonEl =\n",
              "            document.querySelector('#' + key + ' button');\n",
              "          quickchartButtonEl.disabled = true;  // To prevent multiple clicks.\n",
              "          quickchartButtonEl.classList.add('colab-df-spinner');\n",
              "          try {\n",
              "            const charts = await google.colab.kernel.invokeFunction(\n",
              "                'suggestCharts', [key], {});\n",
              "          } catch (error) {\n",
              "            console.error('Error during call to suggestCharts:', error);\n",
              "          }\n",
              "          quickchartButtonEl.classList.remove('colab-df-spinner');\n",
              "          quickchartButtonEl.classList.add('colab-df-quickchart-complete');\n",
              "        }\n",
              "        (() => {\n",
              "          let quickchartButtonEl =\n",
              "            document.querySelector('#df-813add03-be5a-4978-aaa3-81575f00e6e4 button');\n",
              "          quickchartButtonEl.style.display =\n",
              "            google.colab.kernel.accessAllowed ? 'block' : 'none';\n",
              "        })();\n",
              "      </script>\n",
              "    </div>\n",
              "\n",
              "    </div>\n",
              "  </div>\n"
            ],
            "application/vnd.google.colaboratory.intrinsic+json": {
              "type": "dataframe",
              "variable_name": "credits_df"
            }
          },
          "metadata": {},
          "execution_count": 6
        }
      ]
    },
    {
      "cell_type": "markdown",
      "source": [
        "## **d) Tail of the DataSet**"
      ],
      "metadata": {
        "id": "1W1bs6GUlGwk"
      }
    },
    {
      "cell_type": "code",
      "source": [
        "#Last 3 rows of Titles DataSet\n",
        "titles_df.tail(3)"
      ],
      "metadata": {
        "colab": {
          "base_uri": "https://localhost:8080/"
        },
        "id": "_qjxDB1vkZ2l",
        "outputId": "0aa581b8-11e2-4e45-fa67-c771a3befe3e"
      },
      "execution_count": null,
      "outputs": [
        {
          "output_type": "execute_result",
          "data": {
            "text/plain": [
              "             id             title   type  \\\n",
              "9868   tm847725           Chasing  MOVIE   \n",
              "9869  tm1054116          Baikunth  MOVIE   \n",
              "9870   ts275838  Waking Up Eighty   SHOW   \n",
              "\n",
              "                                            description  release_year  \\\n",
              "9868  A cop from Chennai sets out to nab a dreaded d...          2021   \n",
              "9869  This story is about prevalent caste problem, e...          2021   \n",
              "9870  Kara Stewart, 16, is fed up with just about ev...          2021   \n",
              "\n",
              "     age_certification  runtime               genres production_countries  \\\n",
              "9868               NaN      116            ['crime']               ['IN']   \n",
              "9869               NaN       72  ['family', 'drama']                   []   \n",
              "9870               NaN       10            ['drama']                   []   \n",
              "\n",
              "      seasons     imdb_id  imdb_score  imdb_votes  tmdb_popularity  tmdb_score  \n",
              "9868      NaN         NaN         NaN         NaN            1.960         NaN  \n",
              "9869      NaN  tt14331982         8.4        49.0            0.645         NaN  \n",
              "9870      1.0  tt13542552         NaN         NaN              NaN         NaN  "
            ],
            "text/html": [
              "\n",
              "  <div id=\"df-5d842287-c703-4cfa-a9a0-1fe8b305b6b9\" class=\"colab-df-container\">\n",
              "    <div>\n",
              "<style scoped>\n",
              "    .dataframe tbody tr th:only-of-type {\n",
              "        vertical-align: middle;\n",
              "    }\n",
              "\n",
              "    .dataframe tbody tr th {\n",
              "        vertical-align: top;\n",
              "    }\n",
              "\n",
              "    .dataframe thead th {\n",
              "        text-align: right;\n",
              "    }\n",
              "</style>\n",
              "<table border=\"1\" class=\"dataframe\">\n",
              "  <thead>\n",
              "    <tr style=\"text-align: right;\">\n",
              "      <th></th>\n",
              "      <th>id</th>\n",
              "      <th>title</th>\n",
              "      <th>type</th>\n",
              "      <th>description</th>\n",
              "      <th>release_year</th>\n",
              "      <th>age_certification</th>\n",
              "      <th>runtime</th>\n",
              "      <th>genres</th>\n",
              "      <th>production_countries</th>\n",
              "      <th>seasons</th>\n",
              "      <th>imdb_id</th>\n",
              "      <th>imdb_score</th>\n",
              "      <th>imdb_votes</th>\n",
              "      <th>tmdb_popularity</th>\n",
              "      <th>tmdb_score</th>\n",
              "    </tr>\n",
              "  </thead>\n",
              "  <tbody>\n",
              "    <tr>\n",
              "      <th>9868</th>\n",
              "      <td>tm847725</td>\n",
              "      <td>Chasing</td>\n",
              "      <td>MOVIE</td>\n",
              "      <td>A cop from Chennai sets out to nab a dreaded d...</td>\n",
              "      <td>2021</td>\n",
              "      <td>NaN</td>\n",
              "      <td>116</td>\n",
              "      <td>['crime']</td>\n",
              "      <td>['IN']</td>\n",
              "      <td>NaN</td>\n",
              "      <td>NaN</td>\n",
              "      <td>NaN</td>\n",
              "      <td>NaN</td>\n",
              "      <td>1.960</td>\n",
              "      <td>NaN</td>\n",
              "    </tr>\n",
              "    <tr>\n",
              "      <th>9869</th>\n",
              "      <td>tm1054116</td>\n",
              "      <td>Baikunth</td>\n",
              "      <td>MOVIE</td>\n",
              "      <td>This story is about prevalent caste problem, e...</td>\n",
              "      <td>2021</td>\n",
              "      <td>NaN</td>\n",
              "      <td>72</td>\n",
              "      <td>['family', 'drama']</td>\n",
              "      <td>[]</td>\n",
              "      <td>NaN</td>\n",
              "      <td>tt14331982</td>\n",
              "      <td>8.4</td>\n",
              "      <td>49.0</td>\n",
              "      <td>0.645</td>\n",
              "      <td>NaN</td>\n",
              "    </tr>\n",
              "    <tr>\n",
              "      <th>9870</th>\n",
              "      <td>ts275838</td>\n",
              "      <td>Waking Up Eighty</td>\n",
              "      <td>SHOW</td>\n",
              "      <td>Kara Stewart, 16, is fed up with just about ev...</td>\n",
              "      <td>2021</td>\n",
              "      <td>NaN</td>\n",
              "      <td>10</td>\n",
              "      <td>['drama']</td>\n",
              "      <td>[]</td>\n",
              "      <td>1.0</td>\n",
              "      <td>tt13542552</td>\n",
              "      <td>NaN</td>\n",
              "      <td>NaN</td>\n",
              "      <td>NaN</td>\n",
              "      <td>NaN</td>\n",
              "    </tr>\n",
              "  </tbody>\n",
              "</table>\n",
              "</div>\n",
              "    <div class=\"colab-df-buttons\">\n",
              "\n",
              "  <div class=\"colab-df-container\">\n",
              "    <button class=\"colab-df-convert\" onclick=\"convertToInteractive('df-5d842287-c703-4cfa-a9a0-1fe8b305b6b9')\"\n",
              "            title=\"Convert this dataframe to an interactive table.\"\n",
              "            style=\"display:none;\">\n",
              "\n",
              "  <svg xmlns=\"http://www.w3.org/2000/svg\" height=\"24px\" viewBox=\"0 -960 960 960\">\n",
              "    <path d=\"M120-120v-720h720v720H120Zm60-500h600v-160H180v160Zm220 220h160v-160H400v160Zm0 220h160v-160H400v160ZM180-400h160v-160H180v160Zm440 0h160v-160H620v160ZM180-180h160v-160H180v160Zm440 0h160v-160H620v160Z\"/>\n",
              "  </svg>\n",
              "    </button>\n",
              "\n",
              "  <style>\n",
              "    .colab-df-container {\n",
              "      display:flex;\n",
              "      gap: 12px;\n",
              "    }\n",
              "\n",
              "    .colab-df-convert {\n",
              "      background-color: #E8F0FE;\n",
              "      border: none;\n",
              "      border-radius: 50%;\n",
              "      cursor: pointer;\n",
              "      display: none;\n",
              "      fill: #1967D2;\n",
              "      height: 32px;\n",
              "      padding: 0 0 0 0;\n",
              "      width: 32px;\n",
              "    }\n",
              "\n",
              "    .colab-df-convert:hover {\n",
              "      background-color: #E2EBFA;\n",
              "      box-shadow: 0px 1px 2px rgba(60, 64, 67, 0.3), 0px 1px 3px 1px rgba(60, 64, 67, 0.15);\n",
              "      fill: #174EA6;\n",
              "    }\n",
              "\n",
              "    .colab-df-buttons div {\n",
              "      margin-bottom: 4px;\n",
              "    }\n",
              "\n",
              "    [theme=dark] .colab-df-convert {\n",
              "      background-color: #3B4455;\n",
              "      fill: #D2E3FC;\n",
              "    }\n",
              "\n",
              "    [theme=dark] .colab-df-convert:hover {\n",
              "      background-color: #434B5C;\n",
              "      box-shadow: 0px 1px 3px 1px rgba(0, 0, 0, 0.15);\n",
              "      filter: drop-shadow(0px 1px 2px rgba(0, 0, 0, 0.3));\n",
              "      fill: #FFFFFF;\n",
              "    }\n",
              "  </style>\n",
              "\n",
              "    <script>\n",
              "      const buttonEl =\n",
              "        document.querySelector('#df-5d842287-c703-4cfa-a9a0-1fe8b305b6b9 button.colab-df-convert');\n",
              "      buttonEl.style.display =\n",
              "        google.colab.kernel.accessAllowed ? 'block' : 'none';\n",
              "\n",
              "      async function convertToInteractive(key) {\n",
              "        const element = document.querySelector('#df-5d842287-c703-4cfa-a9a0-1fe8b305b6b9');\n",
              "        const dataTable =\n",
              "          await google.colab.kernel.invokeFunction('convertToInteractive',\n",
              "                                                    [key], {});\n",
              "        if (!dataTable) return;\n",
              "\n",
              "        const docLinkHtml = 'Like what you see? Visit the ' +\n",
              "          '<a target=\"_blank\" href=https://colab.research.google.com/notebooks/data_table.ipynb>data table notebook</a>'\n",
              "          + ' to learn more about interactive tables.';\n",
              "        element.innerHTML = '';\n",
              "        dataTable['output_type'] = 'display_data';\n",
              "        await google.colab.output.renderOutput(dataTable, element);\n",
              "        const docLink = document.createElement('div');\n",
              "        docLink.innerHTML = docLinkHtml;\n",
              "        element.appendChild(docLink);\n",
              "      }\n",
              "    </script>\n",
              "  </div>\n",
              "\n",
              "\n",
              "    <div id=\"df-7519fe16-aa50-4e15-8aa5-7c87ba04e30f\">\n",
              "      <button class=\"colab-df-quickchart\" onclick=\"quickchart('df-7519fe16-aa50-4e15-8aa5-7c87ba04e30f')\"\n",
              "                title=\"Suggest charts\"\n",
              "                style=\"display:none;\">\n",
              "\n",
              "<svg xmlns=\"http://www.w3.org/2000/svg\" height=\"24px\"viewBox=\"0 0 24 24\"\n",
              "     width=\"24px\">\n",
              "    <g>\n",
              "        <path d=\"M19 3H5c-1.1 0-2 .9-2 2v14c0 1.1.9 2 2 2h14c1.1 0 2-.9 2-2V5c0-1.1-.9-2-2-2zM9 17H7v-7h2v7zm4 0h-2V7h2v10zm4 0h-2v-4h2v4z\"/>\n",
              "    </g>\n",
              "</svg>\n",
              "      </button>\n",
              "\n",
              "<style>\n",
              "  .colab-df-quickchart {\n",
              "      --bg-color: #E8F0FE;\n",
              "      --fill-color: #1967D2;\n",
              "      --hover-bg-color: #E2EBFA;\n",
              "      --hover-fill-color: #174EA6;\n",
              "      --disabled-fill-color: #AAA;\n",
              "      --disabled-bg-color: #DDD;\n",
              "  }\n",
              "\n",
              "  [theme=dark] .colab-df-quickchart {\n",
              "      --bg-color: #3B4455;\n",
              "      --fill-color: #D2E3FC;\n",
              "      --hover-bg-color: #434B5C;\n",
              "      --hover-fill-color: #FFFFFF;\n",
              "      --disabled-bg-color: #3B4455;\n",
              "      --disabled-fill-color: #666;\n",
              "  }\n",
              "\n",
              "  .colab-df-quickchart {\n",
              "    background-color: var(--bg-color);\n",
              "    border: none;\n",
              "    border-radius: 50%;\n",
              "    cursor: pointer;\n",
              "    display: none;\n",
              "    fill: var(--fill-color);\n",
              "    height: 32px;\n",
              "    padding: 0;\n",
              "    width: 32px;\n",
              "  }\n",
              "\n",
              "  .colab-df-quickchart:hover {\n",
              "    background-color: var(--hover-bg-color);\n",
              "    box-shadow: 0 1px 2px rgba(60, 64, 67, 0.3), 0 1px 3px 1px rgba(60, 64, 67, 0.15);\n",
              "    fill: var(--button-hover-fill-color);\n",
              "  }\n",
              "\n",
              "  .colab-df-quickchart-complete:disabled,\n",
              "  .colab-df-quickchart-complete:disabled:hover {\n",
              "    background-color: var(--disabled-bg-color);\n",
              "    fill: var(--disabled-fill-color);\n",
              "    box-shadow: none;\n",
              "  }\n",
              "\n",
              "  .colab-df-spinner {\n",
              "    border: 2px solid var(--fill-color);\n",
              "    border-color: transparent;\n",
              "    border-bottom-color: var(--fill-color);\n",
              "    animation:\n",
              "      spin 1s steps(1) infinite;\n",
              "  }\n",
              "\n",
              "  @keyframes spin {\n",
              "    0% {\n",
              "      border-color: transparent;\n",
              "      border-bottom-color: var(--fill-color);\n",
              "      border-left-color: var(--fill-color);\n",
              "    }\n",
              "    20% {\n",
              "      border-color: transparent;\n",
              "      border-left-color: var(--fill-color);\n",
              "      border-top-color: var(--fill-color);\n",
              "    }\n",
              "    30% {\n",
              "      border-color: transparent;\n",
              "      border-left-color: var(--fill-color);\n",
              "      border-top-color: var(--fill-color);\n",
              "      border-right-color: var(--fill-color);\n",
              "    }\n",
              "    40% {\n",
              "      border-color: transparent;\n",
              "      border-right-color: var(--fill-color);\n",
              "      border-top-color: var(--fill-color);\n",
              "    }\n",
              "    60% {\n",
              "      border-color: transparent;\n",
              "      border-right-color: var(--fill-color);\n",
              "    }\n",
              "    80% {\n",
              "      border-color: transparent;\n",
              "      border-right-color: var(--fill-color);\n",
              "      border-bottom-color: var(--fill-color);\n",
              "    }\n",
              "    90% {\n",
              "      border-color: transparent;\n",
              "      border-bottom-color: var(--fill-color);\n",
              "    }\n",
              "  }\n",
              "</style>\n",
              "\n",
              "      <script>\n",
              "        async function quickchart(key) {\n",
              "          const quickchartButtonEl =\n",
              "            document.querySelector('#' + key + ' button');\n",
              "          quickchartButtonEl.disabled = true;  // To prevent multiple clicks.\n",
              "          quickchartButtonEl.classList.add('colab-df-spinner');\n",
              "          try {\n",
              "            const charts = await google.colab.kernel.invokeFunction(\n",
              "                'suggestCharts', [key], {});\n",
              "          } catch (error) {\n",
              "            console.error('Error during call to suggestCharts:', error);\n",
              "          }\n",
              "          quickchartButtonEl.classList.remove('colab-df-spinner');\n",
              "          quickchartButtonEl.classList.add('colab-df-quickchart-complete');\n",
              "        }\n",
              "        (() => {\n",
              "          let quickchartButtonEl =\n",
              "            document.querySelector('#df-7519fe16-aa50-4e15-8aa5-7c87ba04e30f button');\n",
              "          quickchartButtonEl.style.display =\n",
              "            google.colab.kernel.accessAllowed ? 'block' : 'none';\n",
              "        })();\n",
              "      </script>\n",
              "    </div>\n",
              "\n",
              "    </div>\n",
              "  </div>\n"
            ],
            "application/vnd.google.colaboratory.intrinsic+json": {
              "type": "dataframe",
              "repr_error": "0"
            }
          },
          "metadata": {},
          "execution_count": 7
        }
      ]
    },
    {
      "cell_type": "code",
      "source": [
        "#Last 3 rows of Titles DataSet\n",
        "credits_df.tail(3)"
      ],
      "metadata": {
        "colab": {
          "base_uri": "https://localhost:8080/"
        },
        "id": "ZENDtq_WkeGM",
        "outputId": "147ea0a4-73f7-48bc-bd17-173960a74efa"
      },
      "execution_count": null,
      "outputs": [
        {
          "output_type": "execute_result",
          "data": {
            "text/plain": [
              "        person_id         id           name character      role\n",
              "124232     728899  tm1054116  Vanya Wellens   Budhiya     ACTOR\n",
              "124233    1938620  tm1054116   Vishwa Bhanu     Gissu     ACTOR\n",
              "124234    1938620  tm1054116   Vishwa Bhanu       NaN  DIRECTOR"
            ],
            "text/html": [
              "\n",
              "  <div id=\"df-b93c0902-61d3-4fc9-997a-2164b4fa3868\" class=\"colab-df-container\">\n",
              "    <div>\n",
              "<style scoped>\n",
              "    .dataframe tbody tr th:only-of-type {\n",
              "        vertical-align: middle;\n",
              "    }\n",
              "\n",
              "    .dataframe tbody tr th {\n",
              "        vertical-align: top;\n",
              "    }\n",
              "\n",
              "    .dataframe thead th {\n",
              "        text-align: right;\n",
              "    }\n",
              "</style>\n",
              "<table border=\"1\" class=\"dataframe\">\n",
              "  <thead>\n",
              "    <tr style=\"text-align: right;\">\n",
              "      <th></th>\n",
              "      <th>person_id</th>\n",
              "      <th>id</th>\n",
              "      <th>name</th>\n",
              "      <th>character</th>\n",
              "      <th>role</th>\n",
              "    </tr>\n",
              "  </thead>\n",
              "  <tbody>\n",
              "    <tr>\n",
              "      <th>124232</th>\n",
              "      <td>728899</td>\n",
              "      <td>tm1054116</td>\n",
              "      <td>Vanya Wellens</td>\n",
              "      <td>Budhiya</td>\n",
              "      <td>ACTOR</td>\n",
              "    </tr>\n",
              "    <tr>\n",
              "      <th>124233</th>\n",
              "      <td>1938620</td>\n",
              "      <td>tm1054116</td>\n",
              "      <td>Vishwa Bhanu</td>\n",
              "      <td>Gissu</td>\n",
              "      <td>ACTOR</td>\n",
              "    </tr>\n",
              "    <tr>\n",
              "      <th>124234</th>\n",
              "      <td>1938620</td>\n",
              "      <td>tm1054116</td>\n",
              "      <td>Vishwa Bhanu</td>\n",
              "      <td>NaN</td>\n",
              "      <td>DIRECTOR</td>\n",
              "    </tr>\n",
              "  </tbody>\n",
              "</table>\n",
              "</div>\n",
              "    <div class=\"colab-df-buttons\">\n",
              "\n",
              "  <div class=\"colab-df-container\">\n",
              "    <button class=\"colab-df-convert\" onclick=\"convertToInteractive('df-b93c0902-61d3-4fc9-997a-2164b4fa3868')\"\n",
              "            title=\"Convert this dataframe to an interactive table.\"\n",
              "            style=\"display:none;\">\n",
              "\n",
              "  <svg xmlns=\"http://www.w3.org/2000/svg\" height=\"24px\" viewBox=\"0 -960 960 960\">\n",
              "    <path d=\"M120-120v-720h720v720H120Zm60-500h600v-160H180v160Zm220 220h160v-160H400v160Zm0 220h160v-160H400v160ZM180-400h160v-160H180v160Zm440 0h160v-160H620v160ZM180-180h160v-160H180v160Zm440 0h160v-160H620v160Z\"/>\n",
              "  </svg>\n",
              "    </button>\n",
              "\n",
              "  <style>\n",
              "    .colab-df-container {\n",
              "      display:flex;\n",
              "      gap: 12px;\n",
              "    }\n",
              "\n",
              "    .colab-df-convert {\n",
              "      background-color: #E8F0FE;\n",
              "      border: none;\n",
              "      border-radius: 50%;\n",
              "      cursor: pointer;\n",
              "      display: none;\n",
              "      fill: #1967D2;\n",
              "      height: 32px;\n",
              "      padding: 0 0 0 0;\n",
              "      width: 32px;\n",
              "    }\n",
              "\n",
              "    .colab-df-convert:hover {\n",
              "      background-color: #E2EBFA;\n",
              "      box-shadow: 0px 1px 2px rgba(60, 64, 67, 0.3), 0px 1px 3px 1px rgba(60, 64, 67, 0.15);\n",
              "      fill: #174EA6;\n",
              "    }\n",
              "\n",
              "    .colab-df-buttons div {\n",
              "      margin-bottom: 4px;\n",
              "    }\n",
              "\n",
              "    [theme=dark] .colab-df-convert {\n",
              "      background-color: #3B4455;\n",
              "      fill: #D2E3FC;\n",
              "    }\n",
              "\n",
              "    [theme=dark] .colab-df-convert:hover {\n",
              "      background-color: #434B5C;\n",
              "      box-shadow: 0px 1px 3px 1px rgba(0, 0, 0, 0.15);\n",
              "      filter: drop-shadow(0px 1px 2px rgba(0, 0, 0, 0.3));\n",
              "      fill: #FFFFFF;\n",
              "    }\n",
              "  </style>\n",
              "\n",
              "    <script>\n",
              "      const buttonEl =\n",
              "        document.querySelector('#df-b93c0902-61d3-4fc9-997a-2164b4fa3868 button.colab-df-convert');\n",
              "      buttonEl.style.display =\n",
              "        google.colab.kernel.accessAllowed ? 'block' : 'none';\n",
              "\n",
              "      async function convertToInteractive(key) {\n",
              "        const element = document.querySelector('#df-b93c0902-61d3-4fc9-997a-2164b4fa3868');\n",
              "        const dataTable =\n",
              "          await google.colab.kernel.invokeFunction('convertToInteractive',\n",
              "                                                    [key], {});\n",
              "        if (!dataTable) return;\n",
              "\n",
              "        const docLinkHtml = 'Like what you see? Visit the ' +\n",
              "          '<a target=\"_blank\" href=https://colab.research.google.com/notebooks/data_table.ipynb>data table notebook</a>'\n",
              "          + ' to learn more about interactive tables.';\n",
              "        element.innerHTML = '';\n",
              "        dataTable['output_type'] = 'display_data';\n",
              "        await google.colab.output.renderOutput(dataTable, element);\n",
              "        const docLink = document.createElement('div');\n",
              "        docLink.innerHTML = docLinkHtml;\n",
              "        element.appendChild(docLink);\n",
              "      }\n",
              "    </script>\n",
              "  </div>\n",
              "\n",
              "\n",
              "    <div id=\"df-309cd3c6-0229-414c-a65f-6422f685b2f6\">\n",
              "      <button class=\"colab-df-quickchart\" onclick=\"quickchart('df-309cd3c6-0229-414c-a65f-6422f685b2f6')\"\n",
              "                title=\"Suggest charts\"\n",
              "                style=\"display:none;\">\n",
              "\n",
              "<svg xmlns=\"http://www.w3.org/2000/svg\" height=\"24px\"viewBox=\"0 0 24 24\"\n",
              "     width=\"24px\">\n",
              "    <g>\n",
              "        <path d=\"M19 3H5c-1.1 0-2 .9-2 2v14c0 1.1.9 2 2 2h14c1.1 0 2-.9 2-2V5c0-1.1-.9-2-2-2zM9 17H7v-7h2v7zm4 0h-2V7h2v10zm4 0h-2v-4h2v4z\"/>\n",
              "    </g>\n",
              "</svg>\n",
              "      </button>\n",
              "\n",
              "<style>\n",
              "  .colab-df-quickchart {\n",
              "      --bg-color: #E8F0FE;\n",
              "      --fill-color: #1967D2;\n",
              "      --hover-bg-color: #E2EBFA;\n",
              "      --hover-fill-color: #174EA6;\n",
              "      --disabled-fill-color: #AAA;\n",
              "      --disabled-bg-color: #DDD;\n",
              "  }\n",
              "\n",
              "  [theme=dark] .colab-df-quickchart {\n",
              "      --bg-color: #3B4455;\n",
              "      --fill-color: #D2E3FC;\n",
              "      --hover-bg-color: #434B5C;\n",
              "      --hover-fill-color: #FFFFFF;\n",
              "      --disabled-bg-color: #3B4455;\n",
              "      --disabled-fill-color: #666;\n",
              "  }\n",
              "\n",
              "  .colab-df-quickchart {\n",
              "    background-color: var(--bg-color);\n",
              "    border: none;\n",
              "    border-radius: 50%;\n",
              "    cursor: pointer;\n",
              "    display: none;\n",
              "    fill: var(--fill-color);\n",
              "    height: 32px;\n",
              "    padding: 0;\n",
              "    width: 32px;\n",
              "  }\n",
              "\n",
              "  .colab-df-quickchart:hover {\n",
              "    background-color: var(--hover-bg-color);\n",
              "    box-shadow: 0 1px 2px rgba(60, 64, 67, 0.3), 0 1px 3px 1px rgba(60, 64, 67, 0.15);\n",
              "    fill: var(--button-hover-fill-color);\n",
              "  }\n",
              "\n",
              "  .colab-df-quickchart-complete:disabled,\n",
              "  .colab-df-quickchart-complete:disabled:hover {\n",
              "    background-color: var(--disabled-bg-color);\n",
              "    fill: var(--disabled-fill-color);\n",
              "    box-shadow: none;\n",
              "  }\n",
              "\n",
              "  .colab-df-spinner {\n",
              "    border: 2px solid var(--fill-color);\n",
              "    border-color: transparent;\n",
              "    border-bottom-color: var(--fill-color);\n",
              "    animation:\n",
              "      spin 1s steps(1) infinite;\n",
              "  }\n",
              "\n",
              "  @keyframes spin {\n",
              "    0% {\n",
              "      border-color: transparent;\n",
              "      border-bottom-color: var(--fill-color);\n",
              "      border-left-color: var(--fill-color);\n",
              "    }\n",
              "    20% {\n",
              "      border-color: transparent;\n",
              "      border-left-color: var(--fill-color);\n",
              "      border-top-color: var(--fill-color);\n",
              "    }\n",
              "    30% {\n",
              "      border-color: transparent;\n",
              "      border-left-color: var(--fill-color);\n",
              "      border-top-color: var(--fill-color);\n",
              "      border-right-color: var(--fill-color);\n",
              "    }\n",
              "    40% {\n",
              "      border-color: transparent;\n",
              "      border-right-color: var(--fill-color);\n",
              "      border-top-color: var(--fill-color);\n",
              "    }\n",
              "    60% {\n",
              "      border-color: transparent;\n",
              "      border-right-color: var(--fill-color);\n",
              "    }\n",
              "    80% {\n",
              "      border-color: transparent;\n",
              "      border-right-color: var(--fill-color);\n",
              "      border-bottom-color: var(--fill-color);\n",
              "    }\n",
              "    90% {\n",
              "      border-color: transparent;\n",
              "      border-bottom-color: var(--fill-color);\n",
              "    }\n",
              "  }\n",
              "</style>\n",
              "\n",
              "      <script>\n",
              "        async function quickchart(key) {\n",
              "          const quickchartButtonEl =\n",
              "            document.querySelector('#' + key + ' button');\n",
              "          quickchartButtonEl.disabled = true;  // To prevent multiple clicks.\n",
              "          quickchartButtonEl.classList.add('colab-df-spinner');\n",
              "          try {\n",
              "            const charts = await google.colab.kernel.invokeFunction(\n",
              "                'suggestCharts', [key], {});\n",
              "          } catch (error) {\n",
              "            console.error('Error during call to suggestCharts:', error);\n",
              "          }\n",
              "          quickchartButtonEl.classList.remove('colab-df-spinner');\n",
              "          quickchartButtonEl.classList.add('colab-df-quickchart-complete');\n",
              "        }\n",
              "        (() => {\n",
              "          let quickchartButtonEl =\n",
              "            document.querySelector('#df-309cd3c6-0229-414c-a65f-6422f685b2f6 button');\n",
              "          quickchartButtonEl.style.display =\n",
              "            google.colab.kernel.accessAllowed ? 'block' : 'none';\n",
              "        })();\n",
              "      </script>\n",
              "    </div>\n",
              "\n",
              "    </div>\n",
              "  </div>\n"
            ],
            "application/vnd.google.colaboratory.intrinsic+json": {
              "type": "dataframe",
              "summary": "{\n  \"name\": \"credits_df\",\n  \"rows\": 3,\n  \"fields\": [\n    {\n      \"column\": \"person_id\",\n      \"properties\": {\n        \"dtype\": \"number\",\n        \"std\": 698432,\n        \"min\": 728899,\n        \"max\": 1938620,\n        \"num_unique_values\": 2,\n        \"samples\": [\n          1938620,\n          728899\n        ],\n        \"semantic_type\": \"\",\n        \"description\": \"\"\n      }\n    },\n    {\n      \"column\": \"id\",\n      \"properties\": {\n        \"dtype\": \"category\",\n        \"num_unique_values\": 1,\n        \"samples\": [\n          \"tm1054116\"\n        ],\n        \"semantic_type\": \"\",\n        \"description\": \"\"\n      }\n    },\n    {\n      \"column\": \"name\",\n      \"properties\": {\n        \"dtype\": \"string\",\n        \"num_unique_values\": 2,\n        \"samples\": [\n          \"Vishwa Bhanu\"\n        ],\n        \"semantic_type\": \"\",\n        \"description\": \"\"\n      }\n    },\n    {\n      \"column\": \"character\",\n      \"properties\": {\n        \"dtype\": \"string\",\n        \"num_unique_values\": 2,\n        \"samples\": [\n          \"Gissu\"\n        ],\n        \"semantic_type\": \"\",\n        \"description\": \"\"\n      }\n    },\n    {\n      \"column\": \"role\",\n      \"properties\": {\n        \"dtype\": \"string\",\n        \"num_unique_values\": 2,\n        \"samples\": [\n          \"DIRECTOR\"\n        ],\n        \"semantic_type\": \"\",\n        \"description\": \"\"\n      }\n    }\n  ]\n}"
            }
          },
          "metadata": {},
          "execution_count": 8
        }
      ]
    },
    {
      "cell_type": "markdown",
      "source": [
        "## **e) Shape of the DataSet**"
      ],
      "metadata": {
        "id": "xntG25WIlato"
      }
    },
    {
      "cell_type": "code",
      "source": [
        "# Number of Rows & Columns in Titles DataSet\n",
        "titles_df.shape"
      ],
      "metadata": {
        "id": "Kllu7SJgmLij",
        "colab": {
          "base_uri": "https://localhost:8080/"
        },
        "outputId": "63416eb9-1827-433b-c7a7-7dff6504943c"
      },
      "execution_count": null,
      "outputs": [
        {
          "output_type": "execute_result",
          "data": {
            "text/plain": [
              "(9871, 15)"
            ]
          },
          "metadata": {},
          "execution_count": 9
        }
      ]
    },
    {
      "cell_type": "code",
      "source": [
        "# Number of Rows & Columns in Credits DataSet\n",
        "credits_df.shape"
      ],
      "metadata": {
        "colab": {
          "base_uri": "https://localhost:8080/"
        },
        "id": "ZXHLKlWZgVJ8",
        "outputId": "8d70d088-ec8e-47f9-c7e2-bfd4d4f5f002"
      },
      "execution_count": null,
      "outputs": [
        {
          "output_type": "execute_result",
          "data": {
            "text/plain": [
              "(124235, 5)"
            ]
          },
          "metadata": {},
          "execution_count": 10
        }
      ]
    },
    {
      "cell_type": "markdown",
      "source": [
        "## **f) Dataset Columns Information**\n",
        "\n"
      ],
      "metadata": {
        "id": "JlHwYmJAmNHm"
      }
    },
    {
      "cell_type": "code",
      "source": [
        "# Titles Dataset Info\n",
        "titles_df.info()"
      ],
      "metadata": {
        "id": "e9hRXRi6meOf",
        "colab": {
          "base_uri": "https://localhost:8080/"
        },
        "outputId": "473fc24b-da61-4e01-cdd5-184c7070837c"
      },
      "execution_count": null,
      "outputs": [
        {
          "output_type": "stream",
          "name": "stdout",
          "text": [
            "<class 'pandas.core.frame.DataFrame'>\n",
            "RangeIndex: 9871 entries, 0 to 9870\n",
            "Data columns (total 15 columns):\n",
            " #   Column                Non-Null Count  Dtype  \n",
            "---  ------                --------------  -----  \n",
            " 0   id                    9871 non-null   object \n",
            " 1   title                 9871 non-null   object \n",
            " 2   type                  9871 non-null   object \n",
            " 3   description           9752 non-null   object \n",
            " 4   release_year          9871 non-null   int64  \n",
            " 5   age_certification     3384 non-null   object \n",
            " 6   runtime               9871 non-null   int64  \n",
            " 7   genres                9871 non-null   object \n",
            " 8   production_countries  9871 non-null   object \n",
            " 9   seasons               1357 non-null   float64\n",
            " 10  imdb_id               9204 non-null   object \n",
            " 11  imdb_score            8850 non-null   float64\n",
            " 12  imdb_votes            8840 non-null   float64\n",
            " 13  tmdb_popularity       9324 non-null   float64\n",
            " 14  tmdb_score            7789 non-null   float64\n",
            "dtypes: float64(5), int64(2), object(8)\n",
            "memory usage: 1.1+ MB\n"
          ]
        }
      ]
    },
    {
      "cell_type": "code",
      "source": [
        "# Credits Dataset Info\n",
        "credits_df.info()"
      ],
      "metadata": {
        "colab": {
          "base_uri": "https://localhost:8080/"
        },
        "id": "r_xMEmX_gjmx",
        "outputId": "d981d12f-d7fa-4604-cce2-0d262702cbef"
      },
      "execution_count": null,
      "outputs": [
        {
          "output_type": "stream",
          "name": "stdout",
          "text": [
            "<class 'pandas.core.frame.DataFrame'>\n",
            "RangeIndex: 124235 entries, 0 to 124234\n",
            "Data columns (total 5 columns):\n",
            " #   Column     Non-Null Count   Dtype \n",
            "---  ------     --------------   ----- \n",
            " 0   person_id  124235 non-null  int64 \n",
            " 1   id         124235 non-null  object\n",
            " 2   name       124235 non-null  object\n",
            " 3   character  107948 non-null  object\n",
            " 4   role       124235 non-null  object\n",
            "dtypes: int64(1), object(4)\n",
            "memory usage: 4.7+ MB\n"
          ]
        }
      ]
    },
    {
      "cell_type": "markdown",
      "source": [
        "## **g) Statistical Report of the DataSet**\n"
      ],
      "metadata": {
        "id": "OhrmidH_nw8L"
      }
    },
    {
      "cell_type": "markdown",
      "source": [
        "### For Numerical Columns"
      ],
      "metadata": {
        "id": "NahQaaJPn60z"
      }
    },
    {
      "cell_type": "code",
      "source": [
        "# Titles Dataset: Statistical Report for Numerical Columns\n",
        "titles_df.describe()"
      ],
      "metadata": {
        "colab": {
          "base_uri": "https://localhost:8080/"
        },
        "id": "AgBxTm8OoC9b",
        "outputId": "e773a84e-e07c-4bc7-e452-e790f4234296"
      },
      "execution_count": null,
      "outputs": [
        {
          "output_type": "execute_result",
          "data": {
            "text/plain": [
              "       release_year      runtime      seasons   imdb_score    imdb_votes  \\\n",
              "count   9871.000000  9871.000000  1357.000000  8850.000000  8.840000e+03   \n",
              "mean    2001.327221    85.973052     2.791452     5.976395  8.533614e+03   \n",
              "std       25.810071    33.512466     4.148958     1.343842  4.592015e+04   \n",
              "min     1912.000000     1.000000     1.000000     1.100000  5.000000e+00   \n",
              "25%     1995.500000    65.000000     1.000000     5.100000  1.170000e+02   \n",
              "50%     2014.000000    89.000000     1.000000     6.100000  4.625000e+02   \n",
              "75%     2018.000000   102.000000     3.000000     6.900000  2.236250e+03   \n",
              "max     2022.000000   549.000000    51.000000     9.900000  1.133692e+06   \n",
              "\n",
              "       tmdb_popularity   tmdb_score  \n",
              "count      9324.000000  7789.000000  \n",
              "mean          6.910204     5.984247  \n",
              "std          30.004098     1.517986  \n",
              "min           0.000011     0.800000  \n",
              "25%           1.232000     5.100000  \n",
              "50%           2.536000     6.000000  \n",
              "75%           5.634000     6.900000  \n",
              "max        1437.906000    10.000000  "
            ],
            "text/html": [
              "\n",
              "  <div id=\"df-0671b91b-6a3c-428f-83ca-a78171cbb1a4\" class=\"colab-df-container\">\n",
              "    <div>\n",
              "<style scoped>\n",
              "    .dataframe tbody tr th:only-of-type {\n",
              "        vertical-align: middle;\n",
              "    }\n",
              "\n",
              "    .dataframe tbody tr th {\n",
              "        vertical-align: top;\n",
              "    }\n",
              "\n",
              "    .dataframe thead th {\n",
              "        text-align: right;\n",
              "    }\n",
              "</style>\n",
              "<table border=\"1\" class=\"dataframe\">\n",
              "  <thead>\n",
              "    <tr style=\"text-align: right;\">\n",
              "      <th></th>\n",
              "      <th>release_year</th>\n",
              "      <th>runtime</th>\n",
              "      <th>seasons</th>\n",
              "      <th>imdb_score</th>\n",
              "      <th>imdb_votes</th>\n",
              "      <th>tmdb_popularity</th>\n",
              "      <th>tmdb_score</th>\n",
              "    </tr>\n",
              "  </thead>\n",
              "  <tbody>\n",
              "    <tr>\n",
              "      <th>count</th>\n",
              "      <td>9871.000000</td>\n",
              "      <td>9871.000000</td>\n",
              "      <td>1357.000000</td>\n",
              "      <td>8850.000000</td>\n",
              "      <td>8.840000e+03</td>\n",
              "      <td>9324.000000</td>\n",
              "      <td>7789.000000</td>\n",
              "    </tr>\n",
              "    <tr>\n",
              "      <th>mean</th>\n",
              "      <td>2001.327221</td>\n",
              "      <td>85.973052</td>\n",
              "      <td>2.791452</td>\n",
              "      <td>5.976395</td>\n",
              "      <td>8.533614e+03</td>\n",
              "      <td>6.910204</td>\n",
              "      <td>5.984247</td>\n",
              "    </tr>\n",
              "    <tr>\n",
              "      <th>std</th>\n",
              "      <td>25.810071</td>\n",
              "      <td>33.512466</td>\n",
              "      <td>4.148958</td>\n",
              "      <td>1.343842</td>\n",
              "      <td>4.592015e+04</td>\n",
              "      <td>30.004098</td>\n",
              "      <td>1.517986</td>\n",
              "    </tr>\n",
              "    <tr>\n",
              "      <th>min</th>\n",
              "      <td>1912.000000</td>\n",
              "      <td>1.000000</td>\n",
              "      <td>1.000000</td>\n",
              "      <td>1.100000</td>\n",
              "      <td>5.000000e+00</td>\n",
              "      <td>0.000011</td>\n",
              "      <td>0.800000</td>\n",
              "    </tr>\n",
              "    <tr>\n",
              "      <th>25%</th>\n",
              "      <td>1995.500000</td>\n",
              "      <td>65.000000</td>\n",
              "      <td>1.000000</td>\n",
              "      <td>5.100000</td>\n",
              "      <td>1.170000e+02</td>\n",
              "      <td>1.232000</td>\n",
              "      <td>5.100000</td>\n",
              "    </tr>\n",
              "    <tr>\n",
              "      <th>50%</th>\n",
              "      <td>2014.000000</td>\n",
              "      <td>89.000000</td>\n",
              "      <td>1.000000</td>\n",
              "      <td>6.100000</td>\n",
              "      <td>4.625000e+02</td>\n",
              "      <td>2.536000</td>\n",
              "      <td>6.000000</td>\n",
              "    </tr>\n",
              "    <tr>\n",
              "      <th>75%</th>\n",
              "      <td>2018.000000</td>\n",
              "      <td>102.000000</td>\n",
              "      <td>3.000000</td>\n",
              "      <td>6.900000</td>\n",
              "      <td>2.236250e+03</td>\n",
              "      <td>5.634000</td>\n",
              "      <td>6.900000</td>\n",
              "    </tr>\n",
              "    <tr>\n",
              "      <th>max</th>\n",
              "      <td>2022.000000</td>\n",
              "      <td>549.000000</td>\n",
              "      <td>51.000000</td>\n",
              "      <td>9.900000</td>\n",
              "      <td>1.133692e+06</td>\n",
              "      <td>1437.906000</td>\n",
              "      <td>10.000000</td>\n",
              "    </tr>\n",
              "  </tbody>\n",
              "</table>\n",
              "</div>\n",
              "    <div class=\"colab-df-buttons\">\n",
              "\n",
              "  <div class=\"colab-df-container\">\n",
              "    <button class=\"colab-df-convert\" onclick=\"convertToInteractive('df-0671b91b-6a3c-428f-83ca-a78171cbb1a4')\"\n",
              "            title=\"Convert this dataframe to an interactive table.\"\n",
              "            style=\"display:none;\">\n",
              "\n",
              "  <svg xmlns=\"http://www.w3.org/2000/svg\" height=\"24px\" viewBox=\"0 -960 960 960\">\n",
              "    <path d=\"M120-120v-720h720v720H120Zm60-500h600v-160H180v160Zm220 220h160v-160H400v160Zm0 220h160v-160H400v160ZM180-400h160v-160H180v160Zm440 0h160v-160H620v160ZM180-180h160v-160H180v160Zm440 0h160v-160H620v160Z\"/>\n",
              "  </svg>\n",
              "    </button>\n",
              "\n",
              "  <style>\n",
              "    .colab-df-container {\n",
              "      display:flex;\n",
              "      gap: 12px;\n",
              "    }\n",
              "\n",
              "    .colab-df-convert {\n",
              "      background-color: #E8F0FE;\n",
              "      border: none;\n",
              "      border-radius: 50%;\n",
              "      cursor: pointer;\n",
              "      display: none;\n",
              "      fill: #1967D2;\n",
              "      height: 32px;\n",
              "      padding: 0 0 0 0;\n",
              "      width: 32px;\n",
              "    }\n",
              "\n",
              "    .colab-df-convert:hover {\n",
              "      background-color: #E2EBFA;\n",
              "      box-shadow: 0px 1px 2px rgba(60, 64, 67, 0.3), 0px 1px 3px 1px rgba(60, 64, 67, 0.15);\n",
              "      fill: #174EA6;\n",
              "    }\n",
              "\n",
              "    .colab-df-buttons div {\n",
              "      margin-bottom: 4px;\n",
              "    }\n",
              "\n",
              "    [theme=dark] .colab-df-convert {\n",
              "      background-color: #3B4455;\n",
              "      fill: #D2E3FC;\n",
              "    }\n",
              "\n",
              "    [theme=dark] .colab-df-convert:hover {\n",
              "      background-color: #434B5C;\n",
              "      box-shadow: 0px 1px 3px 1px rgba(0, 0, 0, 0.15);\n",
              "      filter: drop-shadow(0px 1px 2px rgba(0, 0, 0, 0.3));\n",
              "      fill: #FFFFFF;\n",
              "    }\n",
              "  </style>\n",
              "\n",
              "    <script>\n",
              "      const buttonEl =\n",
              "        document.querySelector('#df-0671b91b-6a3c-428f-83ca-a78171cbb1a4 button.colab-df-convert');\n",
              "      buttonEl.style.display =\n",
              "        google.colab.kernel.accessAllowed ? 'block' : 'none';\n",
              "\n",
              "      async function convertToInteractive(key) {\n",
              "        const element = document.querySelector('#df-0671b91b-6a3c-428f-83ca-a78171cbb1a4');\n",
              "        const dataTable =\n",
              "          await google.colab.kernel.invokeFunction('convertToInteractive',\n",
              "                                                    [key], {});\n",
              "        if (!dataTable) return;\n",
              "\n",
              "        const docLinkHtml = 'Like what you see? Visit the ' +\n",
              "          '<a target=\"_blank\" href=https://colab.research.google.com/notebooks/data_table.ipynb>data table notebook</a>'\n",
              "          + ' to learn more about interactive tables.';\n",
              "        element.innerHTML = '';\n",
              "        dataTable['output_type'] = 'display_data';\n",
              "        await google.colab.output.renderOutput(dataTable, element);\n",
              "        const docLink = document.createElement('div');\n",
              "        docLink.innerHTML = docLinkHtml;\n",
              "        element.appendChild(docLink);\n",
              "      }\n",
              "    </script>\n",
              "  </div>\n",
              "\n",
              "\n",
              "    <div id=\"df-2fff4406-b8f0-46b8-a337-f2ecdbe12f92\">\n",
              "      <button class=\"colab-df-quickchart\" onclick=\"quickchart('df-2fff4406-b8f0-46b8-a337-f2ecdbe12f92')\"\n",
              "                title=\"Suggest charts\"\n",
              "                style=\"display:none;\">\n",
              "\n",
              "<svg xmlns=\"http://www.w3.org/2000/svg\" height=\"24px\"viewBox=\"0 0 24 24\"\n",
              "     width=\"24px\">\n",
              "    <g>\n",
              "        <path d=\"M19 3H5c-1.1 0-2 .9-2 2v14c0 1.1.9 2 2 2h14c1.1 0 2-.9 2-2V5c0-1.1-.9-2-2-2zM9 17H7v-7h2v7zm4 0h-2V7h2v10zm4 0h-2v-4h2v4z\"/>\n",
              "    </g>\n",
              "</svg>\n",
              "      </button>\n",
              "\n",
              "<style>\n",
              "  .colab-df-quickchart {\n",
              "      --bg-color: #E8F0FE;\n",
              "      --fill-color: #1967D2;\n",
              "      --hover-bg-color: #E2EBFA;\n",
              "      --hover-fill-color: #174EA6;\n",
              "      --disabled-fill-color: #AAA;\n",
              "      --disabled-bg-color: #DDD;\n",
              "  }\n",
              "\n",
              "  [theme=dark] .colab-df-quickchart {\n",
              "      --bg-color: #3B4455;\n",
              "      --fill-color: #D2E3FC;\n",
              "      --hover-bg-color: #434B5C;\n",
              "      --hover-fill-color: #FFFFFF;\n",
              "      --disabled-bg-color: #3B4455;\n",
              "      --disabled-fill-color: #666;\n",
              "  }\n",
              "\n",
              "  .colab-df-quickchart {\n",
              "    background-color: var(--bg-color);\n",
              "    border: none;\n",
              "    border-radius: 50%;\n",
              "    cursor: pointer;\n",
              "    display: none;\n",
              "    fill: var(--fill-color);\n",
              "    height: 32px;\n",
              "    padding: 0;\n",
              "    width: 32px;\n",
              "  }\n",
              "\n",
              "  .colab-df-quickchart:hover {\n",
              "    background-color: var(--hover-bg-color);\n",
              "    box-shadow: 0 1px 2px rgba(60, 64, 67, 0.3), 0 1px 3px 1px rgba(60, 64, 67, 0.15);\n",
              "    fill: var(--button-hover-fill-color);\n",
              "  }\n",
              "\n",
              "  .colab-df-quickchart-complete:disabled,\n",
              "  .colab-df-quickchart-complete:disabled:hover {\n",
              "    background-color: var(--disabled-bg-color);\n",
              "    fill: var(--disabled-fill-color);\n",
              "    box-shadow: none;\n",
              "  }\n",
              "\n",
              "  .colab-df-spinner {\n",
              "    border: 2px solid var(--fill-color);\n",
              "    border-color: transparent;\n",
              "    border-bottom-color: var(--fill-color);\n",
              "    animation:\n",
              "      spin 1s steps(1) infinite;\n",
              "  }\n",
              "\n",
              "  @keyframes spin {\n",
              "    0% {\n",
              "      border-color: transparent;\n",
              "      border-bottom-color: var(--fill-color);\n",
              "      border-left-color: var(--fill-color);\n",
              "    }\n",
              "    20% {\n",
              "      border-color: transparent;\n",
              "      border-left-color: var(--fill-color);\n",
              "      border-top-color: var(--fill-color);\n",
              "    }\n",
              "    30% {\n",
              "      border-color: transparent;\n",
              "      border-left-color: var(--fill-color);\n",
              "      border-top-color: var(--fill-color);\n",
              "      border-right-color: var(--fill-color);\n",
              "    }\n",
              "    40% {\n",
              "      border-color: transparent;\n",
              "      border-right-color: var(--fill-color);\n",
              "      border-top-color: var(--fill-color);\n",
              "    }\n",
              "    60% {\n",
              "      border-color: transparent;\n",
              "      border-right-color: var(--fill-color);\n",
              "    }\n",
              "    80% {\n",
              "      border-color: transparent;\n",
              "      border-right-color: var(--fill-color);\n",
              "      border-bottom-color: var(--fill-color);\n",
              "    }\n",
              "    90% {\n",
              "      border-color: transparent;\n",
              "      border-bottom-color: var(--fill-color);\n",
              "    }\n",
              "  }\n",
              "</style>\n",
              "\n",
              "      <script>\n",
              "        async function quickchart(key) {\n",
              "          const quickchartButtonEl =\n",
              "            document.querySelector('#' + key + ' button');\n",
              "          quickchartButtonEl.disabled = true;  // To prevent multiple clicks.\n",
              "          quickchartButtonEl.classList.add('colab-df-spinner');\n",
              "          try {\n",
              "            const charts = await google.colab.kernel.invokeFunction(\n",
              "                'suggestCharts', [key], {});\n",
              "          } catch (error) {\n",
              "            console.error('Error during call to suggestCharts:', error);\n",
              "          }\n",
              "          quickchartButtonEl.classList.remove('colab-df-spinner');\n",
              "          quickchartButtonEl.classList.add('colab-df-quickchart-complete');\n",
              "        }\n",
              "        (() => {\n",
              "          let quickchartButtonEl =\n",
              "            document.querySelector('#df-2fff4406-b8f0-46b8-a337-f2ecdbe12f92 button');\n",
              "          quickchartButtonEl.style.display =\n",
              "            google.colab.kernel.accessAllowed ? 'block' : 'none';\n",
              "        })();\n",
              "      </script>\n",
              "    </div>\n",
              "\n",
              "    </div>\n",
              "  </div>\n"
            ],
            "application/vnd.google.colaboratory.intrinsic+json": {
              "type": "dataframe",
              "summary": "{\n  \"name\": \"titles_df\",\n  \"rows\": 8,\n  \"fields\": [\n    {\n      \"column\": \"release_year\",\n      \"properties\": {\n        \"dtype\": \"number\",\n        \"std\": 2965.6827264021795,\n        \"min\": 25.810071382496382,\n        \"max\": 9871.0,\n        \"num_unique_values\": 8,\n        \"samples\": [\n          2001.327221152872,\n          2014.0,\n          9871.0\n        ],\n        \"semantic_type\": \"\",\n        \"description\": \"\"\n      }\n    },\n    {\n      \"column\": \"runtime\",\n      \"properties\": {\n        \"dtype\": \"number\",\n        \"std\": 3447.5373199456394,\n        \"min\": 1.0,\n        \"max\": 9871.0,\n        \"num_unique_values\": 8,\n        \"samples\": [\n          85.97305237564584,\n          89.0,\n          9871.0\n        ],\n        \"semantic_type\": \"\",\n        \"description\": \"\"\n      }\n    },\n    {\n      \"column\": \"seasons\",\n      \"properties\": {\n        \"dtype\": \"number\",\n        \"std\": 476.8502385671298,\n        \"min\": 1.0,\n        \"max\": 1357.0,\n        \"num_unique_values\": 6,\n        \"samples\": [\n          1357.0,\n          2.791451731761238,\n          51.0\n        ],\n        \"semantic_type\": \"\",\n        \"description\": \"\"\n      }\n    },\n    {\n      \"column\": \"imdb_score\",\n      \"properties\": {\n        \"dtype\": \"number\",\n        \"std\": 3127.1093337031734,\n        \"min\": 1.1,\n        \"max\": 8850.0,\n        \"num_unique_values\": 8,\n        \"samples\": [\n          5.97639548022599,\n          6.1,\n          8850.0\n        ],\n        \"semantic_type\": \"\",\n        \"description\": \"\"\n      }\n    },\n    {\n      \"column\": \"imdb_votes\",\n      \"properties\": {\n        \"dtype\": \"number\",\n        \"std\": 397776.04041444726,\n        \"min\": 5.0,\n        \"max\": 1133692.0,\n        \"num_unique_values\": 8,\n        \"samples\": [\n          8533.614253393665,\n          462.5,\n          8840.0\n        ],\n        \"semantic_type\": \"\",\n        \"description\": \"\"\n      }\n    },\n    {\n      \"column\": \"tmdb_popularity\",\n      \"properties\": {\n        \"dtype\": \"number\",\n        \"std\": 3260.2219174111783,\n        \"min\": 1.1e-05,\n        \"max\": 9324.0,\n        \"num_unique_values\": 8,\n        \"samples\": [\n          6.910204418343475,\n          2.536,\n          9324.0\n        ],\n        \"semantic_type\": \"\",\n        \"description\": \"\"\n      }\n    },\n    {\n      \"column\": \"tmdb_score\",\n      \"properties\": {\n        \"dtype\": \"number\",\n        \"std\": 2751.995379884347,\n        \"min\": 0.8,\n        \"max\": 7789.0,\n        \"num_unique_values\": 8,\n        \"samples\": [\n          5.984247015021184,\n          6.0,\n          7789.0\n        ],\n        \"semantic_type\": \"\",\n        \"description\": \"\"\n      }\n    }\n  ]\n}"
            }
          },
          "metadata": {},
          "execution_count": 13
        }
      ]
    },
    {
      "cell_type": "code",
      "source": [
        "# Credits Dataset: Statistical Report for Numerical Columns\n",
        "credits_df.describe()"
      ],
      "metadata": {
        "colab": {
          "base_uri": "https://localhost:8080/"
        },
        "id": "i3xoSeY5oZ6N",
        "outputId": "c989a056-e3c0-4efa-d988-5d92d7336c96"
      },
      "execution_count": null,
      "outputs": [
        {
          "output_type": "execute_result",
          "data": {
            "text/plain": [
              "          person_id\n",
              "count  1.242350e+05\n",
              "mean   4.064737e+05\n",
              "std    5.616296e+05\n",
              "min    1.000000e+00\n",
              "25%    3.899200e+04\n",
              "50%    1.339490e+05\n",
              "75%    5.712560e+05\n",
              "max    2.371153e+06"
            ],
            "text/html": [
              "\n",
              "  <div id=\"df-785a9d76-2445-49e1-ad4a-bb77479c2470\" class=\"colab-df-container\">\n",
              "    <div>\n",
              "<style scoped>\n",
              "    .dataframe tbody tr th:only-of-type {\n",
              "        vertical-align: middle;\n",
              "    }\n",
              "\n",
              "    .dataframe tbody tr th {\n",
              "        vertical-align: top;\n",
              "    }\n",
              "\n",
              "    .dataframe thead th {\n",
              "        text-align: right;\n",
              "    }\n",
              "</style>\n",
              "<table border=\"1\" class=\"dataframe\">\n",
              "  <thead>\n",
              "    <tr style=\"text-align: right;\">\n",
              "      <th></th>\n",
              "      <th>person_id</th>\n",
              "    </tr>\n",
              "  </thead>\n",
              "  <tbody>\n",
              "    <tr>\n",
              "      <th>count</th>\n",
              "      <td>1.242350e+05</td>\n",
              "    </tr>\n",
              "    <tr>\n",
              "      <th>mean</th>\n",
              "      <td>4.064737e+05</td>\n",
              "    </tr>\n",
              "    <tr>\n",
              "      <th>std</th>\n",
              "      <td>5.616296e+05</td>\n",
              "    </tr>\n",
              "    <tr>\n",
              "      <th>min</th>\n",
              "      <td>1.000000e+00</td>\n",
              "    </tr>\n",
              "    <tr>\n",
              "      <th>25%</th>\n",
              "      <td>3.899200e+04</td>\n",
              "    </tr>\n",
              "    <tr>\n",
              "      <th>50%</th>\n",
              "      <td>1.339490e+05</td>\n",
              "    </tr>\n",
              "    <tr>\n",
              "      <th>75%</th>\n",
              "      <td>5.712560e+05</td>\n",
              "    </tr>\n",
              "    <tr>\n",
              "      <th>max</th>\n",
              "      <td>2.371153e+06</td>\n",
              "    </tr>\n",
              "  </tbody>\n",
              "</table>\n",
              "</div>\n",
              "    <div class=\"colab-df-buttons\">\n",
              "\n",
              "  <div class=\"colab-df-container\">\n",
              "    <button class=\"colab-df-convert\" onclick=\"convertToInteractive('df-785a9d76-2445-49e1-ad4a-bb77479c2470')\"\n",
              "            title=\"Convert this dataframe to an interactive table.\"\n",
              "            style=\"display:none;\">\n",
              "\n",
              "  <svg xmlns=\"http://www.w3.org/2000/svg\" height=\"24px\" viewBox=\"0 -960 960 960\">\n",
              "    <path d=\"M120-120v-720h720v720H120Zm60-500h600v-160H180v160Zm220 220h160v-160H400v160Zm0 220h160v-160H400v160ZM180-400h160v-160H180v160Zm440 0h160v-160H620v160ZM180-180h160v-160H180v160Zm440 0h160v-160H620v160Z\"/>\n",
              "  </svg>\n",
              "    </button>\n",
              "\n",
              "  <style>\n",
              "    .colab-df-container {\n",
              "      display:flex;\n",
              "      gap: 12px;\n",
              "    }\n",
              "\n",
              "    .colab-df-convert {\n",
              "      background-color: #E8F0FE;\n",
              "      border: none;\n",
              "      border-radius: 50%;\n",
              "      cursor: pointer;\n",
              "      display: none;\n",
              "      fill: #1967D2;\n",
              "      height: 32px;\n",
              "      padding: 0 0 0 0;\n",
              "      width: 32px;\n",
              "    }\n",
              "\n",
              "    .colab-df-convert:hover {\n",
              "      background-color: #E2EBFA;\n",
              "      box-shadow: 0px 1px 2px rgba(60, 64, 67, 0.3), 0px 1px 3px 1px rgba(60, 64, 67, 0.15);\n",
              "      fill: #174EA6;\n",
              "    }\n",
              "\n",
              "    .colab-df-buttons div {\n",
              "      margin-bottom: 4px;\n",
              "    }\n",
              "\n",
              "    [theme=dark] .colab-df-convert {\n",
              "      background-color: #3B4455;\n",
              "      fill: #D2E3FC;\n",
              "    }\n",
              "\n",
              "    [theme=dark] .colab-df-convert:hover {\n",
              "      background-color: #434B5C;\n",
              "      box-shadow: 0px 1px 3px 1px rgba(0, 0, 0, 0.15);\n",
              "      filter: drop-shadow(0px 1px 2px rgba(0, 0, 0, 0.3));\n",
              "      fill: #FFFFFF;\n",
              "    }\n",
              "  </style>\n",
              "\n",
              "    <script>\n",
              "      const buttonEl =\n",
              "        document.querySelector('#df-785a9d76-2445-49e1-ad4a-bb77479c2470 button.colab-df-convert');\n",
              "      buttonEl.style.display =\n",
              "        google.colab.kernel.accessAllowed ? 'block' : 'none';\n",
              "\n",
              "      async function convertToInteractive(key) {\n",
              "        const element = document.querySelector('#df-785a9d76-2445-49e1-ad4a-bb77479c2470');\n",
              "        const dataTable =\n",
              "          await google.colab.kernel.invokeFunction('convertToInteractive',\n",
              "                                                    [key], {});\n",
              "        if (!dataTable) return;\n",
              "\n",
              "        const docLinkHtml = 'Like what you see? Visit the ' +\n",
              "          '<a target=\"_blank\" href=https://colab.research.google.com/notebooks/data_table.ipynb>data table notebook</a>'\n",
              "          + ' to learn more about interactive tables.';\n",
              "        element.innerHTML = '';\n",
              "        dataTable['output_type'] = 'display_data';\n",
              "        await google.colab.output.renderOutput(dataTable, element);\n",
              "        const docLink = document.createElement('div');\n",
              "        docLink.innerHTML = docLinkHtml;\n",
              "        element.appendChild(docLink);\n",
              "      }\n",
              "    </script>\n",
              "  </div>\n",
              "\n",
              "\n",
              "    <div id=\"df-3990e22a-9461-4f4c-a509-c9dce5a4c71c\">\n",
              "      <button class=\"colab-df-quickchart\" onclick=\"quickchart('df-3990e22a-9461-4f4c-a509-c9dce5a4c71c')\"\n",
              "                title=\"Suggest charts\"\n",
              "                style=\"display:none;\">\n",
              "\n",
              "<svg xmlns=\"http://www.w3.org/2000/svg\" height=\"24px\"viewBox=\"0 0 24 24\"\n",
              "     width=\"24px\">\n",
              "    <g>\n",
              "        <path d=\"M19 3H5c-1.1 0-2 .9-2 2v14c0 1.1.9 2 2 2h14c1.1 0 2-.9 2-2V5c0-1.1-.9-2-2-2zM9 17H7v-7h2v7zm4 0h-2V7h2v10zm4 0h-2v-4h2v4z\"/>\n",
              "    </g>\n",
              "</svg>\n",
              "      </button>\n",
              "\n",
              "<style>\n",
              "  .colab-df-quickchart {\n",
              "      --bg-color: #E8F0FE;\n",
              "      --fill-color: #1967D2;\n",
              "      --hover-bg-color: #E2EBFA;\n",
              "      --hover-fill-color: #174EA6;\n",
              "      --disabled-fill-color: #AAA;\n",
              "      --disabled-bg-color: #DDD;\n",
              "  }\n",
              "\n",
              "  [theme=dark] .colab-df-quickchart {\n",
              "      --bg-color: #3B4455;\n",
              "      --fill-color: #D2E3FC;\n",
              "      --hover-bg-color: #434B5C;\n",
              "      --hover-fill-color: #FFFFFF;\n",
              "      --disabled-bg-color: #3B4455;\n",
              "      --disabled-fill-color: #666;\n",
              "  }\n",
              "\n",
              "  .colab-df-quickchart {\n",
              "    background-color: var(--bg-color);\n",
              "    border: none;\n",
              "    border-radius: 50%;\n",
              "    cursor: pointer;\n",
              "    display: none;\n",
              "    fill: var(--fill-color);\n",
              "    height: 32px;\n",
              "    padding: 0;\n",
              "    width: 32px;\n",
              "  }\n",
              "\n",
              "  .colab-df-quickchart:hover {\n",
              "    background-color: var(--hover-bg-color);\n",
              "    box-shadow: 0 1px 2px rgba(60, 64, 67, 0.3), 0 1px 3px 1px rgba(60, 64, 67, 0.15);\n",
              "    fill: var(--button-hover-fill-color);\n",
              "  }\n",
              "\n",
              "  .colab-df-quickchart-complete:disabled,\n",
              "  .colab-df-quickchart-complete:disabled:hover {\n",
              "    background-color: var(--disabled-bg-color);\n",
              "    fill: var(--disabled-fill-color);\n",
              "    box-shadow: none;\n",
              "  }\n",
              "\n",
              "  .colab-df-spinner {\n",
              "    border: 2px solid var(--fill-color);\n",
              "    border-color: transparent;\n",
              "    border-bottom-color: var(--fill-color);\n",
              "    animation:\n",
              "      spin 1s steps(1) infinite;\n",
              "  }\n",
              "\n",
              "  @keyframes spin {\n",
              "    0% {\n",
              "      border-color: transparent;\n",
              "      border-bottom-color: var(--fill-color);\n",
              "      border-left-color: var(--fill-color);\n",
              "    }\n",
              "    20% {\n",
              "      border-color: transparent;\n",
              "      border-left-color: var(--fill-color);\n",
              "      border-top-color: var(--fill-color);\n",
              "    }\n",
              "    30% {\n",
              "      border-color: transparent;\n",
              "      border-left-color: var(--fill-color);\n",
              "      border-top-color: var(--fill-color);\n",
              "      border-right-color: var(--fill-color);\n",
              "    }\n",
              "    40% {\n",
              "      border-color: transparent;\n",
              "      border-right-color: var(--fill-color);\n",
              "      border-top-color: var(--fill-color);\n",
              "    }\n",
              "    60% {\n",
              "      border-color: transparent;\n",
              "      border-right-color: var(--fill-color);\n",
              "    }\n",
              "    80% {\n",
              "      border-color: transparent;\n",
              "      border-right-color: var(--fill-color);\n",
              "      border-bottom-color: var(--fill-color);\n",
              "    }\n",
              "    90% {\n",
              "      border-color: transparent;\n",
              "      border-bottom-color: var(--fill-color);\n",
              "    }\n",
              "  }\n",
              "</style>\n",
              "\n",
              "      <script>\n",
              "        async function quickchart(key) {\n",
              "          const quickchartButtonEl =\n",
              "            document.querySelector('#' + key + ' button');\n",
              "          quickchartButtonEl.disabled = true;  // To prevent multiple clicks.\n",
              "          quickchartButtonEl.classList.add('colab-df-spinner');\n",
              "          try {\n",
              "            const charts = await google.colab.kernel.invokeFunction(\n",
              "                'suggestCharts', [key], {});\n",
              "          } catch (error) {\n",
              "            console.error('Error during call to suggestCharts:', error);\n",
              "          }\n",
              "          quickchartButtonEl.classList.remove('colab-df-spinner');\n",
              "          quickchartButtonEl.classList.add('colab-df-quickchart-complete');\n",
              "        }\n",
              "        (() => {\n",
              "          let quickchartButtonEl =\n",
              "            document.querySelector('#df-3990e22a-9461-4f4c-a509-c9dce5a4c71c button');\n",
              "          quickchartButtonEl.style.display =\n",
              "            google.colab.kernel.accessAllowed ? 'block' : 'none';\n",
              "        })();\n",
              "      </script>\n",
              "    </div>\n",
              "\n",
              "    </div>\n",
              "  </div>\n"
            ],
            "application/vnd.google.colaboratory.intrinsic+json": {
              "type": "dataframe",
              "summary": "{\n  \"name\": \"credits_df\",\n  \"rows\": 8,\n  \"fields\": [\n    {\n      \"column\": \"person_id\",\n      \"properties\": {\n        \"dtype\": \"number\",\n        \"std\": 779300.4684304042,\n        \"min\": 1.0,\n        \"max\": 2371153.0,\n        \"num_unique_values\": 8,\n        \"samples\": [\n          406473.6839859943,\n          133949.0,\n          124235.0\n        ],\n        \"semantic_type\": \"\",\n        \"description\": \"\"\n      }\n    }\n  ]\n}"
            }
          },
          "metadata": {},
          "execution_count": 14
        }
      ]
    },
    {
      "cell_type": "markdown",
      "source": [
        "### For Categorical Columns"
      ],
      "metadata": {
        "id": "ZOiHdEBtotFl"
      }
    },
    {
      "cell_type": "code",
      "source": [
        "# Titles Dataset: Statistical Report for Numerical Columns\n",
        "titles_df.describe(include='object')"
      ],
      "metadata": {
        "colab": {
          "base_uri": "https://localhost:8080/"
        },
        "id": "yADOtS7Eo9XL",
        "outputId": "491d831d-c8de-41c9-8696-d4ba8f460392"
      },
      "execution_count": null,
      "outputs": [
        {
          "output_type": "execute_result",
          "data": {
            "text/plain": [
              "             id           title   type         description age_certification  \\\n",
              "count      9871            9871   9871                9752              3384   \n",
              "unique     9868            9737      2                9734                11   \n",
              "top     tm89134  The Lost World  MOVIE  No overview found.                 R   \n",
              "freq          2               3   8514                   5              1249   \n",
              "\n",
              "           genres production_countries    imdb_id  \n",
              "count        9871                 9871       9204  \n",
              "unique       2028                  497       9201  \n",
              "top     ['drama']               ['US']  tt0033683  \n",
              "freq          908                 4810          2  "
            ],
            "text/html": [
              "\n",
              "  <div id=\"df-80c509c9-6dba-453c-812c-890050d42046\" class=\"colab-df-container\">\n",
              "    <div>\n",
              "<style scoped>\n",
              "    .dataframe tbody tr th:only-of-type {\n",
              "        vertical-align: middle;\n",
              "    }\n",
              "\n",
              "    .dataframe tbody tr th {\n",
              "        vertical-align: top;\n",
              "    }\n",
              "\n",
              "    .dataframe thead th {\n",
              "        text-align: right;\n",
              "    }\n",
              "</style>\n",
              "<table border=\"1\" class=\"dataframe\">\n",
              "  <thead>\n",
              "    <tr style=\"text-align: right;\">\n",
              "      <th></th>\n",
              "      <th>id</th>\n",
              "      <th>title</th>\n",
              "      <th>type</th>\n",
              "      <th>description</th>\n",
              "      <th>age_certification</th>\n",
              "      <th>genres</th>\n",
              "      <th>production_countries</th>\n",
              "      <th>imdb_id</th>\n",
              "    </tr>\n",
              "  </thead>\n",
              "  <tbody>\n",
              "    <tr>\n",
              "      <th>count</th>\n",
              "      <td>9871</td>\n",
              "      <td>9871</td>\n",
              "      <td>9871</td>\n",
              "      <td>9752</td>\n",
              "      <td>3384</td>\n",
              "      <td>9871</td>\n",
              "      <td>9871</td>\n",
              "      <td>9204</td>\n",
              "    </tr>\n",
              "    <tr>\n",
              "      <th>unique</th>\n",
              "      <td>9868</td>\n",
              "      <td>9737</td>\n",
              "      <td>2</td>\n",
              "      <td>9734</td>\n",
              "      <td>11</td>\n",
              "      <td>2028</td>\n",
              "      <td>497</td>\n",
              "      <td>9201</td>\n",
              "    </tr>\n",
              "    <tr>\n",
              "      <th>top</th>\n",
              "      <td>tm89134</td>\n",
              "      <td>The Lost World</td>\n",
              "      <td>MOVIE</td>\n",
              "      <td>No overview found.</td>\n",
              "      <td>R</td>\n",
              "      <td>['drama']</td>\n",
              "      <td>['US']</td>\n",
              "      <td>tt0033683</td>\n",
              "    </tr>\n",
              "    <tr>\n",
              "      <th>freq</th>\n",
              "      <td>2</td>\n",
              "      <td>3</td>\n",
              "      <td>8514</td>\n",
              "      <td>5</td>\n",
              "      <td>1249</td>\n",
              "      <td>908</td>\n",
              "      <td>4810</td>\n",
              "      <td>2</td>\n",
              "    </tr>\n",
              "  </tbody>\n",
              "</table>\n",
              "</div>\n",
              "    <div class=\"colab-df-buttons\">\n",
              "\n",
              "  <div class=\"colab-df-container\">\n",
              "    <button class=\"colab-df-convert\" onclick=\"convertToInteractive('df-80c509c9-6dba-453c-812c-890050d42046')\"\n",
              "            title=\"Convert this dataframe to an interactive table.\"\n",
              "            style=\"display:none;\">\n",
              "\n",
              "  <svg xmlns=\"http://www.w3.org/2000/svg\" height=\"24px\" viewBox=\"0 -960 960 960\">\n",
              "    <path d=\"M120-120v-720h720v720H120Zm60-500h600v-160H180v160Zm220 220h160v-160H400v160Zm0 220h160v-160H400v160ZM180-400h160v-160H180v160Zm440 0h160v-160H620v160ZM180-180h160v-160H180v160Zm440 0h160v-160H620v160Z\"/>\n",
              "  </svg>\n",
              "    </button>\n",
              "\n",
              "  <style>\n",
              "    .colab-df-container {\n",
              "      display:flex;\n",
              "      gap: 12px;\n",
              "    }\n",
              "\n",
              "    .colab-df-convert {\n",
              "      background-color: #E8F0FE;\n",
              "      border: none;\n",
              "      border-radius: 50%;\n",
              "      cursor: pointer;\n",
              "      display: none;\n",
              "      fill: #1967D2;\n",
              "      height: 32px;\n",
              "      padding: 0 0 0 0;\n",
              "      width: 32px;\n",
              "    }\n",
              "\n",
              "    .colab-df-convert:hover {\n",
              "      background-color: #E2EBFA;\n",
              "      box-shadow: 0px 1px 2px rgba(60, 64, 67, 0.3), 0px 1px 3px 1px rgba(60, 64, 67, 0.15);\n",
              "      fill: #174EA6;\n",
              "    }\n",
              "\n",
              "    .colab-df-buttons div {\n",
              "      margin-bottom: 4px;\n",
              "    }\n",
              "\n",
              "    [theme=dark] .colab-df-convert {\n",
              "      background-color: #3B4455;\n",
              "      fill: #D2E3FC;\n",
              "    }\n",
              "\n",
              "    [theme=dark] .colab-df-convert:hover {\n",
              "      background-color: #434B5C;\n",
              "      box-shadow: 0px 1px 3px 1px rgba(0, 0, 0, 0.15);\n",
              "      filter: drop-shadow(0px 1px 2px rgba(0, 0, 0, 0.3));\n",
              "      fill: #FFFFFF;\n",
              "    }\n",
              "  </style>\n",
              "\n",
              "    <script>\n",
              "      const buttonEl =\n",
              "        document.querySelector('#df-80c509c9-6dba-453c-812c-890050d42046 button.colab-df-convert');\n",
              "      buttonEl.style.display =\n",
              "        google.colab.kernel.accessAllowed ? 'block' : 'none';\n",
              "\n",
              "      async function convertToInteractive(key) {\n",
              "        const element = document.querySelector('#df-80c509c9-6dba-453c-812c-890050d42046');\n",
              "        const dataTable =\n",
              "          await google.colab.kernel.invokeFunction('convertToInteractive',\n",
              "                                                    [key], {});\n",
              "        if (!dataTable) return;\n",
              "\n",
              "        const docLinkHtml = 'Like what you see? Visit the ' +\n",
              "          '<a target=\"_blank\" href=https://colab.research.google.com/notebooks/data_table.ipynb>data table notebook</a>'\n",
              "          + ' to learn more about interactive tables.';\n",
              "        element.innerHTML = '';\n",
              "        dataTable['output_type'] = 'display_data';\n",
              "        await google.colab.output.renderOutput(dataTable, element);\n",
              "        const docLink = document.createElement('div');\n",
              "        docLink.innerHTML = docLinkHtml;\n",
              "        element.appendChild(docLink);\n",
              "      }\n",
              "    </script>\n",
              "  </div>\n",
              "\n",
              "\n",
              "    <div id=\"df-cb839bc8-80f0-42ab-a42a-66a26f13b728\">\n",
              "      <button class=\"colab-df-quickchart\" onclick=\"quickchart('df-cb839bc8-80f0-42ab-a42a-66a26f13b728')\"\n",
              "                title=\"Suggest charts\"\n",
              "                style=\"display:none;\">\n",
              "\n",
              "<svg xmlns=\"http://www.w3.org/2000/svg\" height=\"24px\"viewBox=\"0 0 24 24\"\n",
              "     width=\"24px\">\n",
              "    <g>\n",
              "        <path d=\"M19 3H5c-1.1 0-2 .9-2 2v14c0 1.1.9 2 2 2h14c1.1 0 2-.9 2-2V5c0-1.1-.9-2-2-2zM9 17H7v-7h2v7zm4 0h-2V7h2v10zm4 0h-2v-4h2v4z\"/>\n",
              "    </g>\n",
              "</svg>\n",
              "      </button>\n",
              "\n",
              "<style>\n",
              "  .colab-df-quickchart {\n",
              "      --bg-color: #E8F0FE;\n",
              "      --fill-color: #1967D2;\n",
              "      --hover-bg-color: #E2EBFA;\n",
              "      --hover-fill-color: #174EA6;\n",
              "      --disabled-fill-color: #AAA;\n",
              "      --disabled-bg-color: #DDD;\n",
              "  }\n",
              "\n",
              "  [theme=dark] .colab-df-quickchart {\n",
              "      --bg-color: #3B4455;\n",
              "      --fill-color: #D2E3FC;\n",
              "      --hover-bg-color: #434B5C;\n",
              "      --hover-fill-color: #FFFFFF;\n",
              "      --disabled-bg-color: #3B4455;\n",
              "      --disabled-fill-color: #666;\n",
              "  }\n",
              "\n",
              "  .colab-df-quickchart {\n",
              "    background-color: var(--bg-color);\n",
              "    border: none;\n",
              "    border-radius: 50%;\n",
              "    cursor: pointer;\n",
              "    display: none;\n",
              "    fill: var(--fill-color);\n",
              "    height: 32px;\n",
              "    padding: 0;\n",
              "    width: 32px;\n",
              "  }\n",
              "\n",
              "  .colab-df-quickchart:hover {\n",
              "    background-color: var(--hover-bg-color);\n",
              "    box-shadow: 0 1px 2px rgba(60, 64, 67, 0.3), 0 1px 3px 1px rgba(60, 64, 67, 0.15);\n",
              "    fill: var(--button-hover-fill-color);\n",
              "  }\n",
              "\n",
              "  .colab-df-quickchart-complete:disabled,\n",
              "  .colab-df-quickchart-complete:disabled:hover {\n",
              "    background-color: var(--disabled-bg-color);\n",
              "    fill: var(--disabled-fill-color);\n",
              "    box-shadow: none;\n",
              "  }\n",
              "\n",
              "  .colab-df-spinner {\n",
              "    border: 2px solid var(--fill-color);\n",
              "    border-color: transparent;\n",
              "    border-bottom-color: var(--fill-color);\n",
              "    animation:\n",
              "      spin 1s steps(1) infinite;\n",
              "  }\n",
              "\n",
              "  @keyframes spin {\n",
              "    0% {\n",
              "      border-color: transparent;\n",
              "      border-bottom-color: var(--fill-color);\n",
              "      border-left-color: var(--fill-color);\n",
              "    }\n",
              "    20% {\n",
              "      border-color: transparent;\n",
              "      border-left-color: var(--fill-color);\n",
              "      border-top-color: var(--fill-color);\n",
              "    }\n",
              "    30% {\n",
              "      border-color: transparent;\n",
              "      border-left-color: var(--fill-color);\n",
              "      border-top-color: var(--fill-color);\n",
              "      border-right-color: var(--fill-color);\n",
              "    }\n",
              "    40% {\n",
              "      border-color: transparent;\n",
              "      border-right-color: var(--fill-color);\n",
              "      border-top-color: var(--fill-color);\n",
              "    }\n",
              "    60% {\n",
              "      border-color: transparent;\n",
              "      border-right-color: var(--fill-color);\n",
              "    }\n",
              "    80% {\n",
              "      border-color: transparent;\n",
              "      border-right-color: var(--fill-color);\n",
              "      border-bottom-color: var(--fill-color);\n",
              "    }\n",
              "    90% {\n",
              "      border-color: transparent;\n",
              "      border-bottom-color: var(--fill-color);\n",
              "    }\n",
              "  }\n",
              "</style>\n",
              "\n",
              "      <script>\n",
              "        async function quickchart(key) {\n",
              "          const quickchartButtonEl =\n",
              "            document.querySelector('#' + key + ' button');\n",
              "          quickchartButtonEl.disabled = true;  // To prevent multiple clicks.\n",
              "          quickchartButtonEl.classList.add('colab-df-spinner');\n",
              "          try {\n",
              "            const charts = await google.colab.kernel.invokeFunction(\n",
              "                'suggestCharts', [key], {});\n",
              "          } catch (error) {\n",
              "            console.error('Error during call to suggestCharts:', error);\n",
              "          }\n",
              "          quickchartButtonEl.classList.remove('colab-df-spinner');\n",
              "          quickchartButtonEl.classList.add('colab-df-quickchart-complete');\n",
              "        }\n",
              "        (() => {\n",
              "          let quickchartButtonEl =\n",
              "            document.querySelector('#df-cb839bc8-80f0-42ab-a42a-66a26f13b728 button');\n",
              "          quickchartButtonEl.style.display =\n",
              "            google.colab.kernel.accessAllowed ? 'block' : 'none';\n",
              "        })();\n",
              "      </script>\n",
              "    </div>\n",
              "\n",
              "    </div>\n",
              "  </div>\n"
            ],
            "application/vnd.google.colaboratory.intrinsic+json": {
              "type": "dataframe",
              "summary": "{\n  \"name\": \"titles_df\",\n  \"rows\": 4,\n  \"fields\": [\n    {\n      \"column\": \"id\",\n      \"properties\": {\n        \"dtype\": \"string\",\n        \"num_unique_values\": 4,\n        \"samples\": [\n          9868,\n          \"2\",\n          \"9871\"\n        ],\n        \"semantic_type\": \"\",\n        \"description\": \"\"\n      }\n    },\n    {\n      \"column\": \"title\",\n      \"properties\": {\n        \"dtype\": \"string\",\n        \"num_unique_values\": 4,\n        \"samples\": [\n          9737,\n          \"3\",\n          \"9871\"\n        ],\n        \"semantic_type\": \"\",\n        \"description\": \"\"\n      }\n    },\n    {\n      \"column\": \"type\",\n      \"properties\": {\n        \"dtype\": \"string\",\n        \"num_unique_values\": 4,\n        \"samples\": [\n          2,\n          \"8514\",\n          \"9871\"\n        ],\n        \"semantic_type\": \"\",\n        \"description\": \"\"\n      }\n    },\n    {\n      \"column\": \"description\",\n      \"properties\": {\n        \"dtype\": \"string\",\n        \"num_unique_values\": 4,\n        \"samples\": [\n          9734,\n          \"5\",\n          \"9752\"\n        ],\n        \"semantic_type\": \"\",\n        \"description\": \"\"\n      }\n    },\n    {\n      \"column\": \"age_certification\",\n      \"properties\": {\n        \"dtype\": \"string\",\n        \"num_unique_values\": 4,\n        \"samples\": [\n          11,\n          \"1249\",\n          \"3384\"\n        ],\n        \"semantic_type\": \"\",\n        \"description\": \"\"\n      }\n    },\n    {\n      \"column\": \"genres\",\n      \"properties\": {\n        \"dtype\": \"string\",\n        \"num_unique_values\": 4,\n        \"samples\": [\n          2028,\n          \"908\",\n          \"9871\"\n        ],\n        \"semantic_type\": \"\",\n        \"description\": \"\"\n      }\n    },\n    {\n      \"column\": \"production_countries\",\n      \"properties\": {\n        \"dtype\": \"string\",\n        \"num_unique_values\": 4,\n        \"samples\": [\n          497,\n          \"4810\",\n          \"9871\"\n        ],\n        \"semantic_type\": \"\",\n        \"description\": \"\"\n      }\n    },\n    {\n      \"column\": \"imdb_id\",\n      \"properties\": {\n        \"dtype\": \"string\",\n        \"num_unique_values\": 4,\n        \"samples\": [\n          9201,\n          \"2\",\n          \"9204\"\n        ],\n        \"semantic_type\": \"\",\n        \"description\": \"\"\n      }\n    }\n  ]\n}"
            }
          },
          "metadata": {},
          "execution_count": 15
        }
      ]
    },
    {
      "cell_type": "code",
      "source": [
        "# Credits Dataset: Statistical Report for Numerical Columns\n",
        "credits_df.describe(include='object')"
      ],
      "metadata": {
        "colab": {
          "base_uri": "https://localhost:8080/"
        },
        "id": "RcHqpuF0pSk2",
        "outputId": "9ae69971-208f-46c8-f3c6-7bb0f3259d96"
      },
      "execution_count": null,
      "outputs": [
        {
          "output_type": "execute_result",
          "data": {
            "text/plain": [
              "              id                  name character    role\n",
              "count     124235                124235    107948  124235\n",
              "unique      8861                 79758     71097       2\n",
              "top     tm458582  George 'Gabby' Hayes   Himself   ACTOR\n",
              "freq         137                    49      1540  115846"
            ],
            "text/html": [
              "\n",
              "  <div id=\"df-3fefe861-cfba-4312-9acc-7dd5cc4b2ab7\" class=\"colab-df-container\">\n",
              "    <div>\n",
              "<style scoped>\n",
              "    .dataframe tbody tr th:only-of-type {\n",
              "        vertical-align: middle;\n",
              "    }\n",
              "\n",
              "    .dataframe tbody tr th {\n",
              "        vertical-align: top;\n",
              "    }\n",
              "\n",
              "    .dataframe thead th {\n",
              "        text-align: right;\n",
              "    }\n",
              "</style>\n",
              "<table border=\"1\" class=\"dataframe\">\n",
              "  <thead>\n",
              "    <tr style=\"text-align: right;\">\n",
              "      <th></th>\n",
              "      <th>id</th>\n",
              "      <th>name</th>\n",
              "      <th>character</th>\n",
              "      <th>role</th>\n",
              "    </tr>\n",
              "  </thead>\n",
              "  <tbody>\n",
              "    <tr>\n",
              "      <th>count</th>\n",
              "      <td>124235</td>\n",
              "      <td>124235</td>\n",
              "      <td>107948</td>\n",
              "      <td>124235</td>\n",
              "    </tr>\n",
              "    <tr>\n",
              "      <th>unique</th>\n",
              "      <td>8861</td>\n",
              "      <td>79758</td>\n",
              "      <td>71097</td>\n",
              "      <td>2</td>\n",
              "    </tr>\n",
              "    <tr>\n",
              "      <th>top</th>\n",
              "      <td>tm458582</td>\n",
              "      <td>George 'Gabby' Hayes</td>\n",
              "      <td>Himself</td>\n",
              "      <td>ACTOR</td>\n",
              "    </tr>\n",
              "    <tr>\n",
              "      <th>freq</th>\n",
              "      <td>137</td>\n",
              "      <td>49</td>\n",
              "      <td>1540</td>\n",
              "      <td>115846</td>\n",
              "    </tr>\n",
              "  </tbody>\n",
              "</table>\n",
              "</div>\n",
              "    <div class=\"colab-df-buttons\">\n",
              "\n",
              "  <div class=\"colab-df-container\">\n",
              "    <button class=\"colab-df-convert\" onclick=\"convertToInteractive('df-3fefe861-cfba-4312-9acc-7dd5cc4b2ab7')\"\n",
              "            title=\"Convert this dataframe to an interactive table.\"\n",
              "            style=\"display:none;\">\n",
              "\n",
              "  <svg xmlns=\"http://www.w3.org/2000/svg\" height=\"24px\" viewBox=\"0 -960 960 960\">\n",
              "    <path d=\"M120-120v-720h720v720H120Zm60-500h600v-160H180v160Zm220 220h160v-160H400v160Zm0 220h160v-160H400v160ZM180-400h160v-160H180v160Zm440 0h160v-160H620v160ZM180-180h160v-160H180v160Zm440 0h160v-160H620v160Z\"/>\n",
              "  </svg>\n",
              "    </button>\n",
              "\n",
              "  <style>\n",
              "    .colab-df-container {\n",
              "      display:flex;\n",
              "      gap: 12px;\n",
              "    }\n",
              "\n",
              "    .colab-df-convert {\n",
              "      background-color: #E8F0FE;\n",
              "      border: none;\n",
              "      border-radius: 50%;\n",
              "      cursor: pointer;\n",
              "      display: none;\n",
              "      fill: #1967D2;\n",
              "      height: 32px;\n",
              "      padding: 0 0 0 0;\n",
              "      width: 32px;\n",
              "    }\n",
              "\n",
              "    .colab-df-convert:hover {\n",
              "      background-color: #E2EBFA;\n",
              "      box-shadow: 0px 1px 2px rgba(60, 64, 67, 0.3), 0px 1px 3px 1px rgba(60, 64, 67, 0.15);\n",
              "      fill: #174EA6;\n",
              "    }\n",
              "\n",
              "    .colab-df-buttons div {\n",
              "      margin-bottom: 4px;\n",
              "    }\n",
              "\n",
              "    [theme=dark] .colab-df-convert {\n",
              "      background-color: #3B4455;\n",
              "      fill: #D2E3FC;\n",
              "    }\n",
              "\n",
              "    [theme=dark] .colab-df-convert:hover {\n",
              "      background-color: #434B5C;\n",
              "      box-shadow: 0px 1px 3px 1px rgba(0, 0, 0, 0.15);\n",
              "      filter: drop-shadow(0px 1px 2px rgba(0, 0, 0, 0.3));\n",
              "      fill: #FFFFFF;\n",
              "    }\n",
              "  </style>\n",
              "\n",
              "    <script>\n",
              "      const buttonEl =\n",
              "        document.querySelector('#df-3fefe861-cfba-4312-9acc-7dd5cc4b2ab7 button.colab-df-convert');\n",
              "      buttonEl.style.display =\n",
              "        google.colab.kernel.accessAllowed ? 'block' : 'none';\n",
              "\n",
              "      async function convertToInteractive(key) {\n",
              "        const element = document.querySelector('#df-3fefe861-cfba-4312-9acc-7dd5cc4b2ab7');\n",
              "        const dataTable =\n",
              "          await google.colab.kernel.invokeFunction('convertToInteractive',\n",
              "                                                    [key], {});\n",
              "        if (!dataTable) return;\n",
              "\n",
              "        const docLinkHtml = 'Like what you see? Visit the ' +\n",
              "          '<a target=\"_blank\" href=https://colab.research.google.com/notebooks/data_table.ipynb>data table notebook</a>'\n",
              "          + ' to learn more about interactive tables.';\n",
              "        element.innerHTML = '';\n",
              "        dataTable['output_type'] = 'display_data';\n",
              "        await google.colab.output.renderOutput(dataTable, element);\n",
              "        const docLink = document.createElement('div');\n",
              "        docLink.innerHTML = docLinkHtml;\n",
              "        element.appendChild(docLink);\n",
              "      }\n",
              "    </script>\n",
              "  </div>\n",
              "\n",
              "\n",
              "    <div id=\"df-c501168d-7633-4601-bc29-f94e47ef0d33\">\n",
              "      <button class=\"colab-df-quickchart\" onclick=\"quickchart('df-c501168d-7633-4601-bc29-f94e47ef0d33')\"\n",
              "                title=\"Suggest charts\"\n",
              "                style=\"display:none;\">\n",
              "\n",
              "<svg xmlns=\"http://www.w3.org/2000/svg\" height=\"24px\"viewBox=\"0 0 24 24\"\n",
              "     width=\"24px\">\n",
              "    <g>\n",
              "        <path d=\"M19 3H5c-1.1 0-2 .9-2 2v14c0 1.1.9 2 2 2h14c1.1 0 2-.9 2-2V5c0-1.1-.9-2-2-2zM9 17H7v-7h2v7zm4 0h-2V7h2v10zm4 0h-2v-4h2v4z\"/>\n",
              "    </g>\n",
              "</svg>\n",
              "      </button>\n",
              "\n",
              "<style>\n",
              "  .colab-df-quickchart {\n",
              "      --bg-color: #E8F0FE;\n",
              "      --fill-color: #1967D2;\n",
              "      --hover-bg-color: #E2EBFA;\n",
              "      --hover-fill-color: #174EA6;\n",
              "      --disabled-fill-color: #AAA;\n",
              "      --disabled-bg-color: #DDD;\n",
              "  }\n",
              "\n",
              "  [theme=dark] .colab-df-quickchart {\n",
              "      --bg-color: #3B4455;\n",
              "      --fill-color: #D2E3FC;\n",
              "      --hover-bg-color: #434B5C;\n",
              "      --hover-fill-color: #FFFFFF;\n",
              "      --disabled-bg-color: #3B4455;\n",
              "      --disabled-fill-color: #666;\n",
              "  }\n",
              "\n",
              "  .colab-df-quickchart {\n",
              "    background-color: var(--bg-color);\n",
              "    border: none;\n",
              "    border-radius: 50%;\n",
              "    cursor: pointer;\n",
              "    display: none;\n",
              "    fill: var(--fill-color);\n",
              "    height: 32px;\n",
              "    padding: 0;\n",
              "    width: 32px;\n",
              "  }\n",
              "\n",
              "  .colab-df-quickchart:hover {\n",
              "    background-color: var(--hover-bg-color);\n",
              "    box-shadow: 0 1px 2px rgba(60, 64, 67, 0.3), 0 1px 3px 1px rgba(60, 64, 67, 0.15);\n",
              "    fill: var(--button-hover-fill-color);\n",
              "  }\n",
              "\n",
              "  .colab-df-quickchart-complete:disabled,\n",
              "  .colab-df-quickchart-complete:disabled:hover {\n",
              "    background-color: var(--disabled-bg-color);\n",
              "    fill: var(--disabled-fill-color);\n",
              "    box-shadow: none;\n",
              "  }\n",
              "\n",
              "  .colab-df-spinner {\n",
              "    border: 2px solid var(--fill-color);\n",
              "    border-color: transparent;\n",
              "    border-bottom-color: var(--fill-color);\n",
              "    animation:\n",
              "      spin 1s steps(1) infinite;\n",
              "  }\n",
              "\n",
              "  @keyframes spin {\n",
              "    0% {\n",
              "      border-color: transparent;\n",
              "      border-bottom-color: var(--fill-color);\n",
              "      border-left-color: var(--fill-color);\n",
              "    }\n",
              "    20% {\n",
              "      border-color: transparent;\n",
              "      border-left-color: var(--fill-color);\n",
              "      border-top-color: var(--fill-color);\n",
              "    }\n",
              "    30% {\n",
              "      border-color: transparent;\n",
              "      border-left-color: var(--fill-color);\n",
              "      border-top-color: var(--fill-color);\n",
              "      border-right-color: var(--fill-color);\n",
              "    }\n",
              "    40% {\n",
              "      border-color: transparent;\n",
              "      border-right-color: var(--fill-color);\n",
              "      border-top-color: var(--fill-color);\n",
              "    }\n",
              "    60% {\n",
              "      border-color: transparent;\n",
              "      border-right-color: var(--fill-color);\n",
              "    }\n",
              "    80% {\n",
              "      border-color: transparent;\n",
              "      border-right-color: var(--fill-color);\n",
              "      border-bottom-color: var(--fill-color);\n",
              "    }\n",
              "    90% {\n",
              "      border-color: transparent;\n",
              "      border-bottom-color: var(--fill-color);\n",
              "    }\n",
              "  }\n",
              "</style>\n",
              "\n",
              "      <script>\n",
              "        async function quickchart(key) {\n",
              "          const quickchartButtonEl =\n",
              "            document.querySelector('#' + key + ' button');\n",
              "          quickchartButtonEl.disabled = true;  // To prevent multiple clicks.\n",
              "          quickchartButtonEl.classList.add('colab-df-spinner');\n",
              "          try {\n",
              "            const charts = await google.colab.kernel.invokeFunction(\n",
              "                'suggestCharts', [key], {});\n",
              "          } catch (error) {\n",
              "            console.error('Error during call to suggestCharts:', error);\n",
              "          }\n",
              "          quickchartButtonEl.classList.remove('colab-df-spinner');\n",
              "          quickchartButtonEl.classList.add('colab-df-quickchart-complete');\n",
              "        }\n",
              "        (() => {\n",
              "          let quickchartButtonEl =\n",
              "            document.querySelector('#df-c501168d-7633-4601-bc29-f94e47ef0d33 button');\n",
              "          quickchartButtonEl.style.display =\n",
              "            google.colab.kernel.accessAllowed ? 'block' : 'none';\n",
              "        })();\n",
              "      </script>\n",
              "    </div>\n",
              "\n",
              "    </div>\n",
              "  </div>\n"
            ],
            "application/vnd.google.colaboratory.intrinsic+json": {
              "type": "dataframe",
              "summary": "{\n  \"name\": \"credits_df\",\n  \"rows\": 4,\n  \"fields\": [\n    {\n      \"column\": \"id\",\n      \"properties\": {\n        \"dtype\": \"string\",\n        \"num_unique_values\": 4,\n        \"samples\": [\n          8861,\n          \"137\",\n          \"124235\"\n        ],\n        \"semantic_type\": \"\",\n        \"description\": \"\"\n      }\n    },\n    {\n      \"column\": \"name\",\n      \"properties\": {\n        \"dtype\": \"string\",\n        \"num_unique_values\": 4,\n        \"samples\": [\n          79758,\n          \"49\",\n          \"124235\"\n        ],\n        \"semantic_type\": \"\",\n        \"description\": \"\"\n      }\n    },\n    {\n      \"column\": \"character\",\n      \"properties\": {\n        \"dtype\": \"string\",\n        \"num_unique_values\": 4,\n        \"samples\": [\n          71097,\n          \"1540\",\n          \"107948\"\n        ],\n        \"semantic_type\": \"\",\n        \"description\": \"\"\n      }\n    },\n    {\n      \"column\": \"role\",\n      \"properties\": {\n        \"dtype\": \"string\",\n        \"num_unique_values\": 4,\n        \"samples\": [\n          2,\n          \"115846\",\n          \"124235\"\n        ],\n        \"semantic_type\": \"\",\n        \"description\": \"\"\n      }\n    }\n  ]\n}"
            }
          },
          "metadata": {},
          "execution_count": 16
        }
      ]
    },
    {
      "cell_type": "markdown",
      "source": [
        "## **h) Summary of DataSet understanding:**"
      ],
      "metadata": {
        "id": "H0kj-8xxnORC"
      }
    },
    {
      "cell_type": "markdown",
      "source": [
        "The DataSets contains list of all movies and shows available on Amazon Prime Video.We are going to perform analysis, to uncover key trends that influence subscription growth, user engagement, and content investment strategies in the streaming industry.\n",
        "\n",
        "2 Datasets are provided:\n",
        "  1. Titles : Contains all movies/shows titles and relevant information on titles.\n",
        "  2.Credits: Contains credits of actors and directors"
      ],
      "metadata": {
        "id": "gfoNAAC-nUe_"
      }
    },
    {
      "cell_type": "markdown",
      "source": [
        "# 2. ***Data Wrangling/Cleaning***\n"
      ],
      "metadata": {
        "id": "dauF4eBmngu3"
      }
    },
    {
      "cell_type": "markdown",
      "source": [
        "## **a) Copying Original DataFrame**"
      ],
      "metadata": {
        "id": "w2yV74AI-6tR"
      }
    },
    {
      "cell_type": "code",
      "source": [
        "#for ensuring data integrity and allowing for independent manipulation of data without affecting the original DataFrame.\n",
        "cleaned_titles_df = titles_df.copy()\n",
        "cleaned_credits_df = credits_df.copy()"
      ],
      "metadata": {
        "id": "SSFj1gRj-54i"
      },
      "execution_count": null,
      "outputs": []
    },
    {
      "cell_type": "markdown",
      "source": [
        "## **b)Check and Remove Duplicate rows/columns**"
      ],
      "metadata": {
        "id": "AKegvPer91BP"
      }
    },
    {
      "cell_type": "code",
      "source": [
        "# checking titles_df Dataframe contains Duplicate Rows or not\n",
        "cleaned_titles_df.duplicated().sum()"
      ],
      "metadata": {
        "colab": {
          "base_uri": "https://localhost:8080/"
        },
        "id": "5kmsF31g9yNX",
        "outputId": "9153c1f6-72ec-4f5b-b973-620fa25113ab"
      },
      "execution_count": null,
      "outputs": [
        {
          "output_type": "execute_result",
          "data": {
            "text/plain": [
              "np.int64(3)"
            ]
          },
          "metadata": {},
          "execution_count": 18
        }
      ]
    },
    {
      "cell_type": "code",
      "source": [
        "# Removing titles_df Dataframe Duplicated rows\n",
        "cleaned_titles_df.drop_duplicates(inplace=True)\n",
        "cleaned_titles_df.duplicated().sum()"
      ],
      "metadata": {
        "colab": {
          "base_uri": "https://localhost:8080/"
        },
        "id": "ObcG1uPY-LTj",
        "outputId": "6b551ed5-544c-48ed-9de1-e4c9e0acac16"
      },
      "execution_count": null,
      "outputs": [
        {
          "output_type": "execute_result",
          "data": {
            "text/plain": [
              "np.int64(0)"
            ]
          },
          "metadata": {},
          "execution_count": 19
        }
      ]
    },
    {
      "cell_type": "code",
      "source": [
        "# checking credits_df Dataframe contains Duplicate Rows or not\n",
        "cleaned_credits_df.duplicated().sum()"
      ],
      "metadata": {
        "colab": {
          "base_uri": "https://localhost:8080/"
        },
        "id": "b6JO_3mw-fEC",
        "outputId": "c5905123-6370-4907-e16b-f04957785747"
      },
      "execution_count": null,
      "outputs": [
        {
          "output_type": "execute_result",
          "data": {
            "text/plain": [
              "np.int64(56)"
            ]
          },
          "metadata": {},
          "execution_count": 20
        }
      ]
    },
    {
      "cell_type": "code",
      "source": [
        "# Removing credits_df Dataframe Duplicated rows\n",
        "cleaned_credits_df.drop_duplicates(inplace=True)\n",
        "cleaned_credits_df.duplicated().sum()"
      ],
      "metadata": {
        "colab": {
          "base_uri": "https://localhost:8080/"
        },
        "id": "2JU5xMcA-l01",
        "outputId": "65f12f6d-5b5b-42ac-c104-63c7c94748ad"
      },
      "execution_count": null,
      "outputs": [
        {
          "output_type": "execute_result",
          "data": {
            "text/plain": [
              "np.int64(0)"
            ]
          },
          "metadata": {},
          "execution_count": 21
        }
      ]
    },
    {
      "cell_type": "code",
      "source": [
        "# No Duplicate Columns Found on both titles,credits DataFrame"
      ],
      "metadata": {
        "id": "ARDwXNnAALtq"
      },
      "execution_count": null,
      "outputs": []
    },
    {
      "cell_type": "markdown",
      "source": [
        "## **c) Check and Handle Null/Missing Values For Titles DataSet**"
      ],
      "metadata": {
        "id": "3fJxuq6VBE6W"
      }
    },
    {
      "cell_type": "code",
      "source": [
        "# Calculate the sum of null values for each column\n",
        "null_counts = cleaned_titles_df.isnull().sum()\n",
        "\n",
        "# Filter and display only columns with nulls greater than 0\n",
        "null_counts[null_counts > 0]"
      ],
      "metadata": {
        "colab": {
          "base_uri": "https://localhost:8080/"
        },
        "id": "9frwZv3LBLAS",
        "outputId": "c23399d3-562a-4536-ef0d-4a062eb95266"
      },
      "execution_count": null,
      "outputs": [
        {
          "output_type": "execute_result",
          "data": {
            "text/plain": [
              "description           119\n",
              "age_certification    6484\n",
              "seasons              8511\n",
              "imdb_id               667\n",
              "imdb_score           1021\n",
              "imdb_votes           1031\n",
              "tmdb_popularity       547\n",
              "tmdb_score           2080\n",
              "dtype: int64"
            ],
            "text/html": [
              "<div>\n",
              "<style scoped>\n",
              "    .dataframe tbody tr th:only-of-type {\n",
              "        vertical-align: middle;\n",
              "    }\n",
              "\n",
              "    .dataframe tbody tr th {\n",
              "        vertical-align: top;\n",
              "    }\n",
              "\n",
              "    .dataframe thead th {\n",
              "        text-align: right;\n",
              "    }\n",
              "</style>\n",
              "<table border=\"1\" class=\"dataframe\">\n",
              "  <thead>\n",
              "    <tr style=\"text-align: right;\">\n",
              "      <th></th>\n",
              "      <th>0</th>\n",
              "    </tr>\n",
              "  </thead>\n",
              "  <tbody>\n",
              "    <tr>\n",
              "      <th>description</th>\n",
              "      <td>119</td>\n",
              "    </tr>\n",
              "    <tr>\n",
              "      <th>age_certification</th>\n",
              "      <td>6484</td>\n",
              "    </tr>\n",
              "    <tr>\n",
              "      <th>seasons</th>\n",
              "      <td>8511</td>\n",
              "    </tr>\n",
              "    <tr>\n",
              "      <th>imdb_id</th>\n",
              "      <td>667</td>\n",
              "    </tr>\n",
              "    <tr>\n",
              "      <th>imdb_score</th>\n",
              "      <td>1021</td>\n",
              "    </tr>\n",
              "    <tr>\n",
              "      <th>imdb_votes</th>\n",
              "      <td>1031</td>\n",
              "    </tr>\n",
              "    <tr>\n",
              "      <th>tmdb_popularity</th>\n",
              "      <td>547</td>\n",
              "    </tr>\n",
              "    <tr>\n",
              "      <th>tmdb_score</th>\n",
              "      <td>2080</td>\n",
              "    </tr>\n",
              "  </tbody>\n",
              "</table>\n",
              "</div><br><label><b>dtype:</b> int64</label>"
            ]
          },
          "metadata": {},
          "execution_count": 23
        }
      ]
    },
    {
      "cell_type": "code",
      "source": [
        "# Dropping 'description' column since description is not required for analysis\n",
        "try:\n",
        "  cleaned_titles_df.drop('description', axis=1, inplace=True)\n",
        "  print(\"Deleting 'description' column \")\n",
        "except:\n",
        "  print(\" 'description' column Already Deleted or column not found\")\n",
        "\n",
        "# Dropping 'imdb_id' column since imdb_id dataset is not provided and imdb_id is of no use for this analysis\n",
        "try:\n",
        "  cleaned_titles_df.drop('imdb_id',axis=1,inplace=True)\n",
        "  print(\"Deleting 'imdb_id' column \")\n",
        "except:\n",
        "  print(\" 'imdb_id' column Already Deleted or column not found\")"
      ],
      "metadata": {
        "colab": {
          "base_uri": "https://localhost:8080/"
        },
        "id": "R7FCZATfDjMz",
        "outputId": "1c3bfa9a-10bb-4138-8394-41810ce3d027"
      },
      "execution_count": null,
      "outputs": [
        {
          "output_type": "stream",
          "name": "stdout",
          "text": [
            "Deleting 'description' column \n",
            "Deleting 'imdb_id' column \n"
          ]
        }
      ]
    },
    {
      "cell_type": "code",
      "source": [
        "# getting percentage of Null values in 'age_certification' column\n",
        "print(cleaned_titles_df['age_certification'].isnull().sum()/cleaned_titles_df.shape[0]*100,\" % of values are null\")\n",
        "# Dropping 'age_certification' column since more than 50% of data is null and can provide wrong insights due to insufficient data.\n",
        "cleaned_titles_df.drop('age_certification', axis=1, inplace=True)"
      ],
      "metadata": {
        "colab": {
          "base_uri": "https://localhost:8080/"
        },
        "id": "uGbj9zbUDxNa",
        "outputId": "d7843098-57f8-4bb8-a633-baca82e87639"
      },
      "execution_count": null,
      "outputs": [
        {
          "output_type": "stream",
          "name": "stdout",
          "text": [
            "65.70733684637212  % of values are null\n"
          ]
        }
      ]
    },
    {
      "cell_type": "code",
      "source": [
        "# Number of null values in 'seasons' column is high but usefull insight for Shows ,so just replacing null with numpy.nan\n",
        "cleaned_titles_df['seasons'].fillna(np.nan, inplace=True)"
      ],
      "metadata": {
        "id": "5dTfGgHxGmbp"
      },
      "execution_count": null,
      "outputs": []
    },
    {
      "cell_type": "code",
      "source": [
        "# 'imdb_score' column has 1021 null values and need to be replaced by mean/median\n",
        "# checking skewness of 'imdb_score' column to decide whether null should be replaced ny mean or median\n",
        "print(cleaned_titles_df['imdb_score'].skew(),'is the Skewness of imdb_score column ')\n",
        "# Skewness is between -0.5 and 0.5 suggests the distribution is approximately symmetrical. so replacing null with mean\n",
        "print('Replacing null with mean since it is symmetrical')\n",
        "cleaned_titles_df['imdb_score'].fillna(cleaned_titles_df['imdb_score'].mean(), inplace=True)"
      ],
      "metadata": {
        "colab": {
          "base_uri": "https://localhost:8080/"
        },
        "id": "5TRzfLCjHpVR",
        "outputId": "eafe8a28-0680-438a-cc1a-dbc07933266f"
      },
      "execution_count": null,
      "outputs": [
        {
          "output_type": "stream",
          "name": "stdout",
          "text": [
            "-0.3595900258306882 is the Skewness of imdb_score column \n",
            "Replacing null with mean since it is symmetrical\n"
          ]
        }
      ]
    },
    {
      "cell_type": "code",
      "source": [
        "# 'imdb_votes' column has 1031 null values and need to be replaced by mean/median\n",
        "# checking skewness of 'imdb_votes' column to decide whether null should be replaced ny mean or median\n",
        "print(cleaned_titles_df['imdb_votes'].skew(),'is the Skewness of imdb_votes column ')\n",
        "# Skewness less than -1 or greater than 1 indicates a highly skewed distribution. so replacing null with median\n",
        "print('Replacing null with median since it is highly skewed distribution')\n",
        "cleaned_titles_df['imdb_votes'].fillna(cleaned_titles_df['imdb_votes'].median(), inplace=True)"
      ],
      "metadata": {
        "colab": {
          "base_uri": "https://localhost:8080/"
        },
        "id": "wl-HkEQHMuxj",
        "outputId": "feb08f72-2ba2-40ff-fe7d-df31409f5bb2"
      },
      "execution_count": null,
      "outputs": [
        {
          "output_type": "stream",
          "name": "stdout",
          "text": [
            "12.51555205392482 is the Skewness of imdb_votes column \n",
            "Replacing null with median since it is highly skewed distribution\n"
          ]
        }
      ]
    },
    {
      "cell_type": "code",
      "source": [
        "# 'tmdb_popularity' column has 547 null values and need to be replaced by mean/median\n",
        "# checking skewness of 'tmdb_popularity' column to decide whether null should be replaced ny mean or median\n",
        "print(cleaned_titles_df['tmdb_popularity'].skew(),'is the Skewness of tmdb_popularity column ')\n",
        "# Skewness less than -1 or greater than 1 indicates a highly skewed distribution. so replacing null with median\n",
        "print('Replacing null with median since it is highly skewed distribution')\n",
        "cleaned_titles_df['tmdb_popularity'].fillna(cleaned_titles_df['tmdb_popularity'].median(), inplace=True)"
      ],
      "metadata": {
        "colab": {
          "base_uri": "https://localhost:8080/"
        },
        "id": "_Yr1zIyENozg",
        "outputId": "1d7d2473-e0b1-4038-9321-27572054287a"
      },
      "execution_count": null,
      "outputs": [
        {
          "output_type": "stream",
          "name": "stdout",
          "text": [
            "26.77120679871342 is the Skewness of tmdb_popularity column \n",
            "Replacing null with median since it is highly skewed distribution\n"
          ]
        }
      ]
    },
    {
      "cell_type": "code",
      "source": [
        "# 'tmdb_score' column has 2080 null values and need to be replaced by mean/median\n",
        "# checking skewness of 'tmdb_score' column to decide whether null should be replaced ny mean or median\n",
        "print(cleaned_titles_df['tmdb_score'].skew(),'is the Skewness of tmdb_score column ')\n",
        "# Skewness is between -0.5 and 0.5 suggests the distribution is approximately symmetrical. so replacing null with mean\n",
        "print('Replacing null with mean since it is symmetrical')\n",
        "cleaned_titles_df['tmdb_score'].fillna(cleaned_titles_df['tmdb_score'].mean(), inplace=True)"
      ],
      "metadata": {
        "colab": {
          "base_uri": "https://localhost:8080/"
        },
        "id": "8k0nucoTOAkw",
        "outputId": "34aa29fa-434a-4adb-9fa5-cfa1343ef360"
      },
      "execution_count": null,
      "outputs": [
        {
          "output_type": "stream",
          "name": "stdout",
          "text": [
            "-0.33482152530934284 is the Skewness of tmdb_score column \n",
            "Replacing null with mean since it is symmetrical\n"
          ]
        }
      ]
    },
    {
      "cell_type": "markdown",
      "source": [
        "## **d) Exception Cases for Handling Null/Missing Values for Object dtype For Titles DataSet**"
      ],
      "metadata": {
        "id": "_qecMfECO4dl"
      }
    },
    {
      "cell_type": "code",
      "source": [
        "# Object dtype columns can contain null/missing values not detected by pandas/numpy/python like 'none','nan','[]','{}' etc\n",
        "# fetch object dtype columns\n",
        "columns_to_clean = list(cleaned_titles_df.select_dtypes(include='object').columns)\n",
        "print('columns_to_clean are: ',columns_to_clean)"
      ],
      "metadata": {
        "colab": {
          "base_uri": "https://localhost:8080/"
        },
        "id": "3qUDzivfO3Xz",
        "outputId": "b379d1f8-beff-46cd-caae-de375bf8a4c4"
      },
      "execution_count": null,
      "outputs": [
        {
          "output_type": "stream",
          "name": "stdout",
          "text": [
            "columns_to_clean are:  ['id', 'title', 'type', 'genres', 'production_countries']\n"
          ]
        }
      ]
    },
    {
      "cell_type": "code",
      "source": [
        "undetected_null_values = ['na','none','nan','\\[\\]','\\(\\)','\\{\\}']\n",
        "count = 0\n",
        "# check if undetected_null_values are present\n",
        "for col in columns_to_clean:\n",
        "  for search_string in undetected_null_values:\n",
        "    if cleaned_titles_df[col].str.fullmatch(search_string, case=False).any():\n",
        "      count = 1\n",
        "      print(f'{col} column contains {search_string} values')\n",
        "if count == 0:\n",
        "  print('No undetected null values found')"
      ],
      "metadata": {
        "colab": {
          "base_uri": "https://localhost:8080/"
        },
        "id": "6DR3oj9Xiorv",
        "outputId": "e7b795c3-56a3-4d52-9aae-6b3860a9cccd"
      },
      "execution_count": null,
      "outputs": [
        {
          "output_type": "stream",
          "name": "stdout",
          "text": [
            "genres column contains \\[\\] values\n",
            "production_countries column contains \\[\\] values\n"
          ]
        }
      ]
    },
    {
      "cell_type": "code",
      "source": [
        "# search for undetected_null_values and replace with mode\n",
        "for col in columns_to_clean:\n",
        "  for search_string in undetected_null_values:\n",
        "    if cleaned_titles_df[col].str.fullmatch(search_string, case=False).any():\n",
        "      mode_value = str(cleaned_titles_df[col].mode().iloc[0])\n",
        "      cleaned_titles_df[col] = cleaned_titles_df[col].str.replace(search_string,mode_value,regex=True)"
      ],
      "metadata": {
        "id": "apliwWhkg6hH"
      },
      "execution_count": null,
      "outputs": []
    },
    {
      "cell_type": "code",
      "source": [
        "# We have successfully handled null/missing values\n",
        "# reset index after dropping/handling null/missing values\n",
        "cleaned_titles_df.reset_index(drop=True,inplace=True) # drop:If you do not want to keep the old index as a new column, you can set the drop parameter to True."
      ],
      "metadata": {
        "id": "-b5eMy2ert4C"
      },
      "execution_count": null,
      "outputs": []
    },
    {
      "cell_type": "markdown",
      "source": [
        "## **e) Check and Handle Null/Missing Values For Credits DataSet**"
      ],
      "metadata": {
        "id": "nvZPUBSFucm8"
      }
    },
    {
      "cell_type": "code",
      "source": [
        "# Calculate the sum of null values for each column\n",
        "null_counts = cleaned_credits_df.isnull().sum()\n",
        "\n",
        "# Filter and display only columns with nulls greater than 0\n",
        "null_counts[null_counts > 0]"
      ],
      "metadata": {
        "colab": {
          "base_uri": "https://localhost:8080/"
        },
        "id": "pawpMwNjuh-a",
        "outputId": "36732746-4cd9-4d89-a29d-ed5736e8d09f"
      },
      "execution_count": null,
      "outputs": [
        {
          "output_type": "execute_result",
          "data": {
            "text/plain": [
              "character    16277\n",
              "dtype: int64"
            ],
            "text/html": [
              "<div>\n",
              "<style scoped>\n",
              "    .dataframe tbody tr th:only-of-type {\n",
              "        vertical-align: middle;\n",
              "    }\n",
              "\n",
              "    .dataframe tbody tr th {\n",
              "        vertical-align: top;\n",
              "    }\n",
              "\n",
              "    .dataframe thead th {\n",
              "        text-align: right;\n",
              "    }\n",
              "</style>\n",
              "<table border=\"1\" class=\"dataframe\">\n",
              "  <thead>\n",
              "    <tr style=\"text-align: right;\">\n",
              "      <th></th>\n",
              "      <th>0</th>\n",
              "    </tr>\n",
              "  </thead>\n",
              "  <tbody>\n",
              "    <tr>\n",
              "      <th>character</th>\n",
              "      <td>16277</td>\n",
              "    </tr>\n",
              "  </tbody>\n",
              "</table>\n",
              "</div><br><label><b>dtype:</b> int64</label>"
            ]
          },
          "metadata": {},
          "execution_count": 35
        }
      ]
    },
    {
      "cell_type": "code",
      "source": [
        "# Dropping 'character' column since Movie/TV Show character is not required for analysis\n",
        "try:\n",
        "  cleaned_credits_df.drop('character', axis=1, inplace=True)\n",
        "  print(\"Deleting 'character' column \")\n",
        "except:\n",
        "  print(\" 'character' column Already Deleted or column not found\")"
      ],
      "metadata": {
        "colab": {
          "base_uri": "https://localhost:8080/"
        },
        "id": "ZQUuqEpFu843",
        "outputId": "13517d9b-8305-4451-f7c2-060abaea9d3f"
      },
      "execution_count": null,
      "outputs": [
        {
          "output_type": "stream",
          "name": "stdout",
          "text": [
            "Deleting 'character' column \n"
          ]
        }
      ]
    },
    {
      "cell_type": "code",
      "source": [
        "# No null values found in others columns"
      ],
      "metadata": {
        "id": "QkQgYBzKvhdn"
      },
      "execution_count": null,
      "outputs": []
    },
    {
      "cell_type": "markdown",
      "source": [
        "## **f) Exception Cases for Handling Null/Missing Values for Object dtype For Credits DataSet**"
      ],
      "metadata": {
        "id": "ttA5YR5Ovp2z"
      }
    },
    {
      "cell_type": "code",
      "source": [
        "# Object dtype columns can contain null/missing values not detected by pandas/numpy/python like 'none','nan','[]','{}' etc\n",
        "# fetch object dtype columns\n",
        "columns_to_clean = list(cleaned_credits_df.select_dtypes(include='object').columns)\n",
        "print('columns_to_clean are: ',columns_to_clean)"
      ],
      "metadata": {
        "colab": {
          "base_uri": "https://localhost:8080/"
        },
        "id": "RyVu64l5vt7J",
        "outputId": "fc97a9e5-614f-495d-9012-eae0ac143975"
      },
      "execution_count": null,
      "outputs": [
        {
          "output_type": "stream",
          "name": "stdout",
          "text": [
            "columns_to_clean are:  ['id', 'name', 'role']\n"
          ]
        }
      ]
    },
    {
      "cell_type": "code",
      "source": [
        "undetected_null_values = ['na','none','nan','\\[\\]','\\(\\)','\\{\\}']\n",
        "count = 0\n",
        "# check if undetected_null_values are present\n",
        "for col in columns_to_clean:\n",
        "  for search_string in undetected_null_values:\n",
        "    if cleaned_credits_df[col].str.fullmatch(search_string, case=False).any():\n",
        "      count = 1\n",
        "      print(f'{col} column contains {search_string} values')\n",
        "if count == 0:\n",
        "  print('No undetected null values found')"
      ],
      "metadata": {
        "colab": {
          "base_uri": "https://localhost:8080/"
        },
        "id": "1-VcXZKEwo9Y",
        "outputId": "1ab64aaf-78ed-4575-fb18-1391b95197eb"
      },
      "execution_count": null,
      "outputs": [
        {
          "output_type": "stream",
          "name": "stdout",
          "text": [
            "No undetected null values found\n"
          ]
        }
      ]
    },
    {
      "cell_type": "markdown",
      "source": [
        "## **g) String formatting for Titles Dataset**"
      ],
      "metadata": {
        "id": "SOqdkTbLOqab"
      }
    },
    {
      "cell_type": "code",
      "source": [
        "#Removing leading and trailing whitespace for object data type\n",
        "object_dtype_columns = cleaned_titles_df.select_dtypes(include='object').columns\n",
        "for col in object_dtype_columns:\n",
        "  cleaned_titles_df[col] = cleaned_titles_df[col].str.strip()"
      ],
      "metadata": {
        "id": "OSFxrCdDOp7k"
      },
      "execution_count": null,
      "outputs": []
    },
    {
      "cell_type": "code",
      "source": [
        "#converting string data to lowercase and then to respective format , this is done to maintain uniform string format\n",
        "cleaned_titles_df['title'] = cleaned_titles_df['title'].str.lower()\n",
        "cleaned_titles_df['title'] = cleaned_titles_df['title'].str.title() # changing to title case\n",
        "cleaned_titles_df['type'] = cleaned_titles_df['type'].str.lower()\n",
        "cleaned_titles_df['genres'] = cleaned_titles_df['genres'].str.lower()\n",
        "# convert uniformed genre list string to pythonlist datatype\n",
        "cleaned_titles_df['genres'] = cleaned_titles_df['genres'].apply(ast.literal_eval)\n",
        "cleaned_titles_df['production_countries'] = cleaned_titles_df['production_countries'].str.upper()\n",
        "cleaned_titles_df['production_countries'] = cleaned_titles_df['production_countries'].apply(ast.literal_eval)"
      ],
      "metadata": {
        "id": "mNqeKUS903q0"
      },
      "execution_count": null,
      "outputs": []
    },
    {
      "cell_type": "markdown",
      "source": [
        "## **h) String formatting for Credits Dataset**"
      ],
      "metadata": {
        "id": "v9ujkSRy0spN"
      }
    },
    {
      "cell_type": "code",
      "source": [
        "#Removing leading and trailing whitespace for object data type\n",
        "object_dtype_columns = cleaned_credits_df.select_dtypes(include='object').columns\n",
        "for col in object_dtype_columns:\n",
        "  cleaned_credits_df[col] = cleaned_credits_df[col].str.strip()"
      ],
      "metadata": {
        "id": "ZgDYuIvS2ps5"
      },
      "execution_count": null,
      "outputs": []
    },
    {
      "cell_type": "code",
      "source": [
        "#converting string data to lowercase and then to respective format , this is done to maintain uniform string format\n",
        "cleaned_credits_df['name'] = cleaned_credits_df['name'].str.lower()\n",
        "cleaned_credits_df['name'] = cleaned_credits_df['name'].str.title() # changing to title case\n",
        "cleaned_credits_df['role'] = cleaned_credits_df['role'].str.lower()"
      ],
      "metadata": {
        "id": "kXgMHyGB24lg"
      },
      "execution_count": null,
      "outputs": []
    },
    {
      "cell_type": "markdown",
      "source": [
        "## **i) Cleaned DataFrame to CSV**"
      ],
      "metadata": {
        "id": "7iDllMa-3TsI"
      }
    },
    {
      "cell_type": "code",
      "source": [
        "#cleaned DataFrame to CSV , this is done to 1. to be saved for future use 2.As a Input for Further Analysis etc\n",
        "cleaned_titles_df.to_csv('cleaned_titles.csv',index=False)\n",
        "cleaned_credits_df.to_csv('cleaned_credits.csv',index=False)"
      ],
      "metadata": {
        "id": "6iHZUQWS3b4r"
      },
      "execution_count": null,
      "outputs": []
    },
    {
      "cell_type": "markdown",
      "source": [
        "# **3) Checking/Handling Outliers**"
      ],
      "metadata": {
        "id": "JXOEC0m_2EmK"
      }
    },
    {
      "cell_type": "code",
      "source": [
        "# Checking Outliers for Titles Dataset\n",
        "current_year = int(dt.datetime.now(ZoneInfo(\"US/Eastern\")).year) # dataset is based on US countries\n",
        "print(cleaned_titles_df[cleaned_titles_df['release_year'] > current_year].shape[0], ' outliers in release_year column.')\n",
        "print(cleaned_titles_df[cleaned_titles_df['runtime'] < 0].shape[0], ' outliers in runtime column.')\n",
        "print(cleaned_titles_df[(cleaned_titles_df['imdb_score'] <0) | (cleaned_titles_df['imdb_score'] > 10)].shape[0], ' outliers in imdb_score column.')\n",
        "print(cleaned_titles_df[(cleaned_titles_df['tmdb_score'] <0) | (cleaned_titles_df['tmdb_score'] > 10)].shape[0],' outliers in tmdb_score column.')\n",
        "print(cleaned_titles_df[(cleaned_titles_df['imdb_votes'] <0)].shape[0], ' outliers in imdb_votes column.')\n",
        "print('skewness of tmdb_popularity:',cleaned_titles_df['tmdb_popularity'].skew())\n",
        "# tmbd_popularity is highly skewed.Using Interquartile Range (IQR) Method to handle Outliers\n",
        "# Calculate Q1, Q3, and IQR\n",
        "Q1 = cleaned_titles_df['tmdb_popularity'].quantile(0.25)\n",
        "Q3 = cleaned_titles_df['tmdb_popularity'].quantile(0.75)\n",
        "IQR = Q3 - Q1\n",
        "# Define outlier bounds\n",
        "lower_bound = Q1 - 1.5 * IQR\n",
        "upper_bound = Q3 + 1.5 * IQR\n",
        "if lower_bound < 0:\n",
        "  lower_bound = 0\n",
        "no_of_outliers_in_tmdb_popularity = cleaned_titles_df[(cleaned_titles_df['tmdb_popularity'] < lower_bound) | (cleaned_titles_df['tmdb_popularity'] > upper_bound)].shape[0]\n",
        "if no_of_outliers_in_tmdb_popularity > 0:\n",
        "  print(no_of_outliers_in_tmdb_popularity,' outliers in tmdb_popularity column.')\n",
        "  # Handling outliers by Capping values > upper_bound to upper_bound and by Capping values < lower_bound to lower_bound\n",
        "  cleaned_titles_df['tmdb_popularity'] = cleaned_titles_df['tmdb_popularity'].apply(lambda x: upper_bound if x > upper_bound else x)\n",
        "  cleaned_titles_df['tmdb_popularity'] = cleaned_titles_df['tmdb_popularity'].apply(lambda x: lower_bound if x < lower_bound else x)"
      ],
      "metadata": {
        "colab": {
          "base_uri": "https://localhost:8080/"
        },
        "id": "se4RhUBer-hk",
        "outputId": "97d7dacc-8019-468f-f4b7-49514047835d"
      },
      "execution_count": null,
      "outputs": [
        {
          "output_type": "stream",
          "name": "stdout",
          "text": [
            "0  outliers in release_year column.\n",
            "0  outliers in runtime column.\n",
            "0  outliers in imdb_score column.\n",
            "0  outliers in tmdb_score column.\n",
            "0  outliers in imdb_votes column.\n",
            "skewness of tmdb_popularity: 27.52142514182077\n",
            "1015  outliers in tmdb_popularity column.\n"
          ]
        }
      ]
    },
    {
      "cell_type": "code",
      "source": [
        "# Checking Outliers in Credits Dataset\n",
        "print(cleaned_credits_df['role'].nunique(), ' Roles in role column ie: actor,director.')\n",
        "# No outliers found in Credits DataSet\n"
      ],
      "metadata": {
        "colab": {
          "base_uri": "https://localhost:8080/"
        },
        "id": "rhQsfXpo2q5h",
        "outputId": "b46d17a0-01ba-43e6-815f-8a8c24955ff6"
      },
      "execution_count": null,
      "outputs": [
        {
          "output_type": "stream",
          "name": "stdout",
          "text": [
            "2  Roles in role column ie: actor,director.\n"
          ]
        }
      ]
    },
    {
      "cell_type": "markdown",
      "source": [
        "# ***3. Exploring the Data***"
      ],
      "metadata": {
        "id": "Pz7cAu0xiWm1"
      }
    },
    {
      "cell_type": "code",
      "source": [
        "# Combining imdb_score and tmdb_score into single score for easier analysis\n",
        "# finding the correlation between imdb_score and tmdb_score\n",
        "cor_value = cleaned_titles_df[['imdb_score','tmdb_score']].corr().iloc[1,0].round(3)\n",
        "print(cor_value,' is the correlation between imdb_score and tmdb_score.') #0.48 suggests a moderate positive correlation.\n",
        "# Applying the weighted average to combine 2 scores into 1 score\n",
        "# correlation is 0.489,total weightage must be 1(0.511 + 0.489),IMDB weightage=0.511 and TMDB weightage=0.489 since IMDB rating is consistent and popular,i provided higher weightage to IMDB\n",
        "imdb_weightage = (1- cor_value).round(3)\n",
        "print('imdb_weightage is ',imdb_weightage)\n",
        "tmdb_weightage = cor_value.round(3)\n",
        "print('tmdb_weightage is ',tmdb_weightage)\n",
        "cleaned_titles_df['weighted_average_score'] = (cleaned_titles_df['imdb_score'] * imdb_weightage + cleaned_titles_df['tmdb_score'] * tmdb_weightage).round(2)\n",
        "cleaned_titles_df['weighted_average_score'].head(3)"
      ],
      "metadata": {
        "colab": {
          "base_uri": "https://localhost:8080/",
          "height": 230
        },
        "id": "g2NvzGEDlMlv",
        "outputId": "ef819c60-3708-44a0-e0d3-5d065e4a6249"
      },
      "execution_count": null,
      "outputs": [
        {
          "output_type": "stream",
          "name": "stdout",
          "text": [
            "0.489  is the correlation between imdb_score and tmdb_score.\n",
            "imdb_weightage is  0.511\n",
            "tmdb_weightage is  0.489\n"
          ]
        },
        {
          "output_type": "execute_result",
          "data": {
            "text/plain": [
              "0    8.11\n",
              "1    8.10\n",
              "2    7.95\n",
              "Name: weighted_average_score, dtype: float64"
            ],
            "text/html": [
              "<div>\n",
              "<style scoped>\n",
              "    .dataframe tbody tr th:only-of-type {\n",
              "        vertical-align: middle;\n",
              "    }\n",
              "\n",
              "    .dataframe tbody tr th {\n",
              "        vertical-align: top;\n",
              "    }\n",
              "\n",
              "    .dataframe thead th {\n",
              "        text-align: right;\n",
              "    }\n",
              "</style>\n",
              "<table border=\"1\" class=\"dataframe\">\n",
              "  <thead>\n",
              "    <tr style=\"text-align: right;\">\n",
              "      <th></th>\n",
              "      <th>weighted_average_score</th>\n",
              "    </tr>\n",
              "  </thead>\n",
              "  <tbody>\n",
              "    <tr>\n",
              "      <th>0</th>\n",
              "      <td>8.11</td>\n",
              "    </tr>\n",
              "    <tr>\n",
              "      <th>1</th>\n",
              "      <td>8.10</td>\n",
              "    </tr>\n",
              "    <tr>\n",
              "      <th>2</th>\n",
              "      <td>7.95</td>\n",
              "    </tr>\n",
              "  </tbody>\n",
              "</table>\n",
              "</div><br><label><b>dtype:</b> float64</label>"
            ]
          },
          "metadata": {},
          "execution_count": 47
        }
      ]
    },
    {
      "cell_type": "code",
      "source": [
        "# Adding new column called decade by caluculating which decade the release date of the TV show or movie belongs to\n",
        "cleaned_titles_df['decade'] = (cleaned_titles_df['release_year'] // 10) * 10"
      ],
      "metadata": {
        "id": "0iiTmVGPRzTz"
      },
      "execution_count": null,
      "outputs": []
    },
    {
      "cell_type": "markdown",
      "source": [
        "# ***4. Data Visualization and Analysis***"
      ],
      "metadata": {
        "id": "UFUwiroKHnzz"
      }
    },
    {
      "cell_type": "markdown",
      "source": [
        "#### **Chart - 1 - TV Shows vs Movies**"
      ],
      "metadata": {
        "id": "MBxgFQI2ivu4"
      }
    },
    {
      "cell_type": "code",
      "source": [
        "fig, axes = plt.subplots(1,3,figsize=(16, 6))\n",
        "# Total number of Movies vs Tv Shows\n",
        "sns.countplot(x=cleaned_titles_df['type'], data=cleaned_titles_df,palette='deep',ax = axes[0])\n",
        "axes[0].set_title('Total Number of TV Shows vs Movies')\n",
        "axes[0].set_xticklabels(['TV Shows','Movies'])\n",
        "for p in axes[0].patches:\n",
        "    axes[0].annotate(f'\\n{p.get_height()}', (p.get_x()+0.2, p.get_height()), ha='center', va='top', color='white')\n",
        "# Total number of High Rated Movies vs Tv Shows\n",
        "# The weighted_average_score above 7 is considered high rated ,filtering tv shows and movies above 7 score\n",
        "above_7_weighted_average_score = cleaned_titles_df[cleaned_titles_df['weighted_average_score'] > 7]\n",
        "sns.countplot(x=above_7_weighted_average_score['type'], data=above_7_weighted_average_score,palette='deep',ax = axes[1])\n",
        "axes[1].set_title('Total Number of High Rated TV Shows vs Movies')\n",
        "axes[1].set_xticklabels(['TV Shows','Movies'])\n",
        "axes[1].legend(title=\"Rating > 7\",facecolor='lightgreen', frameon=True,title_fontsize='small')\n",
        "for p in axes[1].patches:\n",
        "    axes[1].annotate(f'\\n{p.get_height()}', (p.get_x()+0.2, p.get_height()), ha='center', va='top', color='white')\n",
        "# TMDB popularity of TV Shows vs Movies\n",
        "sns.barplot(x=cleaned_titles_df['type'],y= cleaned_titles_df['tmdb_popularity'], data=cleaned_titles_df,palette='deep',ax = axes[2], errorbar=None)\n",
        "axes[2].set_title('TMDB popularity of TV Shows vs Movies')\n",
        "axes[2].set_ylabel('TMDB Popularity')\n",
        "axes[2].set_xticklabels(['TV Shows','Movies'])\n",
        "plt.tight_layout()\n",
        "plt.show()\n"
      ],
      "metadata": {
        "colab": {
          "base_uri": "https://localhost:8080/",
          "height": 542
        },
        "id": "Q9RQjjv0H9Yu",
        "outputId": "95f7d112-bece-46e5-e3cd-5bcb0468f583"
      },
      "execution_count": null,
      "outputs": [
        {
          "output_type": "display_data",
          "data": {
            "text/plain": [
              "<Figure size 1600x600 with 3 Axes>"
            ],
            "image/png": "[encoded data removed]"
          },
          "metadata": {}
        }
      ]
    },
    {
      "cell_type": "markdown",
      "source": [
        "##### **Analysis Report**"
      ],
      "metadata": {
        "id": "qaXn2aRRnd8G"
      }
    },
    {
      "cell_type": "markdown",
      "source": [
        "*   **Total number of Movies are 6.2X Higher than TV Shows.**\n",
        "*   **Total number of Top Rated Movies are Higher than Top Rated TV Shows but in low margin.**\n",
        "* **TMDB Popularity is higher for TV Shows than Movies,despite the number of TV Shows are less in number.**\n",
        "\n",
        "**Business Insights**\n",
        "* **Focus more on Increasing the number of Quality TV Shows Content.**\n",
        "* **Remove Low TMDB Popularity movies or Low IMDB Rated movies for Cost Saving.**\n",
        "\n",
        "\n",
        "\n",
        "\n"
      ],
      "metadata": {
        "id": "T3nOP2OpqkH8"
      }
    },
    {
      "cell_type": "markdown",
      "source": [
        "#### **Chart - 2 - Heatmap finding correlation for runtime,imdb_score,tmdb_score,tmdb_popularity**"
      ],
      "metadata": {
        "id": "f9vbfg1bO4OE"
      }
    },
    {
      "cell_type": "code",
      "source": [
        "# Heatmap finding correlation for runtime ,imdb_score,tmdb_score,tmdb_popularity\n",
        "selected_columns_for_correlation = ['runtime', 'imdb_score','tmdb_score','tmdb_popularity']\n",
        "selected_columns_for_correlation_df = cleaned_titles_df[selected_columns_for_correlation].corr()\n",
        "plt.figure(figsize=(16, 6)) # Optional: Adjust figure size\n",
        "ax = sns.heatmap(selected_columns_for_correlation_df, annot=True, cmap='viridis', fmt=\".1f\")\n",
        "plt.title('Heatmap for finding correlation')\n",
        "ax.set_yticklabels(selected_columns_for_correlation,fontsize=8)\n",
        "plt.show()"
      ],
      "metadata": {
        "colab": {
          "base_uri": "https://localhost:8080/",
          "height": 545
        },
        "id": "ChVVVIS3N7JJ",
        "outputId": "fdae6c72-984b-4174-a51e-4e4e98b35c7d"
      },
      "execution_count": null,
      "outputs": [
        {
          "output_type": "display_data",
          "data": {
            "text/plain": [
              "<Figure size 1600x600 with 2 Axes>"
            ],
            "image/png": "[encoded data removed]"
          },
          "metadata": {}
        }
      ]
    },
    {
      "cell_type": "markdown",
      "source": [
        "##### **Analysis Report**"
      ],
      "metadata": {
        "id": "calehEELMLPK"
      }
    },
    {
      "cell_type": "markdown",
      "source": [
        "* **TMDb popularity correlates weakly with IMDb score.**\n",
        "* **TMDb popularity correlates weakly with Runtime.**\n",
        "* **TMDb score and IMDb score are moderatly positive correlated**\n",
        "\n",
        "**Business Insights**\n",
        "* **Focus on quality.Longer/Shorter runtime is not equal to better IMDb score/TMDb score.**\n",
        "* **Scores from different sources IMDb and TMDb are positively correlated.**\n",
        "\n",
        "\n",
        "\n",
        "\n"
      ],
      "metadata": {
        "id": "Nn2PWLK4MPA9"
      }
    },
    {
      "cell_type": "markdown",
      "source": [
        "#### **Chart - 3 - line plot for finding Average Rating Score by Release Decade**"
      ],
      "metadata": {
        "id": "9Cn4LReoSw3H"
      }
    },
    {
      "cell_type": "code",
      "source": [
        "# line plot for finding Average Score by Release Decade\n",
        "sns.lineplot(x=cleaned_titles_df['decade'], y=cleaned_titles_df['weighted_average_score'], data=cleaned_titles_df,palette='deep')\n",
        "sns.set(rc={'figure.figsize':(16, 6)})\n",
        "plt.title('Average Combined(Movies/TV Shows) Rating by Release Decade')\n",
        "plt.ylabel('Average  Rating')\n",
        "plt.xlabel('Release Decade')\n",
        "plt.show()"
      ],
      "metadata": {
        "colab": {
          "base_uri": "https://localhost:8080/",
          "height": 573
        },
        "id": "qRkCJwxIPkiv",
        "outputId": "09d1a7b5-71f5-4eaa-b197-d951fc577d90"
      },
      "execution_count": null,
      "outputs": [
        {
          "output_type": "display_data",
          "data": {
            "text/plain": [
              "<Figure size 1600x600 with 1 Axes>"
            ],
            "image/png": "[encoded data removed]"
          },
          "metadata": {}
        }
      ]
    },
    {
      "cell_type": "markdown",
      "source": [
        "##### **Analysis Report**"
      ],
      "metadata": {
        "id": "y2L2SrCvTACs"
      }
    },
    {
      "cell_type": "markdown",
      "source": [
        "* **Ratings Increased sightly decade by decade.**\n",
        "* **Largest Rating Drop observed between 1920-1930.**\n",
        "* **Second Largest Rating Drop observed between 2010-2020.**\n",
        "\n",
        "****Business Insights**\n",
        "* **Consistent quality since the 1940s.**\n",
        "* **Second Largest Rating Drop in recent decade Indicating potential fatigue or shifts in rating behaviors.**\n"
      ],
      "metadata": {
        "id": "IMTwadBGTA9s"
      }
    },
    {
      "cell_type": "markdown",
      "source": [
        "#### **Chart - 4 - Genre Analysis**"
      ],
      "metadata": {
        "id": "qLhQ2Yx_cNqs"
      }
    },
    {
      "cell_type": "code",
      "source": [
        "# explode() is used to convert lists in a column into multiple rows.\n",
        "df_exploded = cleaned_titles_df.explode('genres')\n",
        "# top 10 genre by content count\n",
        "temp_df = df_exploded['genres'].value_counts().nlargest(10)\n",
        "fig, axes = plt.subplots(2,2,figsize=(18, 8))\n",
        "sns.barplot(y=temp_df.index,x=temp_df.values, palette=\"deep\",ax = axes[0,0])\n",
        "axes[0,0].set_title('Top 10 Genres by Content Count')\n",
        "axes[0,0].tick_params(axis='x', labelrotation=45)\n",
        "# top 10 genre by weighted_average_score\n",
        "temp_df = df_exploded.groupby('genres')['weighted_average_score'].mean().nlargest(10)\n",
        "sns.barplot(y=temp_df.index,x=temp_df.values, palette=\"deep\",ax = axes[0,1])\n",
        "axes[0,1].set_title('Top 10 Genres by Average Rating Score')\n",
        "axes[0,1].tick_params(axis='x', labelrotation=45)\n",
        "# top 10 genre by TMDB_popularity\n",
        "temp_df = df_exploded.groupby('genres')['tmdb_popularity'].mean().nlargest(10)\n",
        "sns.barplot(y=temp_df.index,x=temp_df.values, palette=\"deep\",ax = axes[1,0])\n",
        "axes[1,0].set_title('Top 10 Genres by TMDB Popularity')\n",
        "axes[1,0].tick_params(axis='x', labelrotation=45)\n",
        "axes[1, 1].axis('off') # Hides the axes, ticks, and labels\n",
        "# top 10 genre by release decade\n",
        "plt.tight_layout()\n",
        "plt.show()\n"
      ],
      "metadata": {
        "colab": {
          "base_uri": "https://localhost:8080/",
          "height": 638
        },
        "id": "qiXRN6LrWRX0",
        "outputId": "2c4a5b97-7400-4527-bc40-c23b48201585"
      },
      "execution_count": null,
      "outputs": [
        {
          "output_type": "display_data",
          "data": {
            "text/plain": [
              "<Figure size 1800x800 with 4 Axes>"
            ],
            "image/png": "[encoded data removed]"
          },
          "metadata": {}
        }
      ]
    },
    {
      "cell_type": "markdown",
      "source": [
        "##### **Analysis Report**"
      ],
      "metadata": {
        "id": "6UiR8ygdp40W"
      }
    },
    {
      "cell_type": "markdown",
      "source": [
        "* **Drama,comedy,thriller are Top 3 genres by content Count.**\n",
        "* **Reality,documentation,history are Top 3 genres by Ratings.**\n",
        "* **Fantasy,scifi,european are Top 3 genres by Ratings**\n",
        "\n",
        "**Business Insights**\n",
        "* **Add more Fantasy,scifi Genre Movies/TV Shows. Because Fantasy and scifi are most popular and their respective content counts are low.**\n",
        "* **Reduce the Drama genre Movies/TV Shows with low ratings for cost saving,since Drame genre is not popular.**\n"
      ],
      "metadata": {
        "id": "mltz6xXKp89S"
      }
    },
    {
      "cell_type": "markdown",
      "source": [
        "#### **Chart - 5 - Production Countries Analysis**"
      ],
      "metadata": {
        "id": "MqroHWl4uAVI"
      }
    },
    {
      "cell_type": "code",
      "source": [
        "#Top 10 Production countries by count\n",
        "df_exploded = cleaned_titles_df.explode('production_countries')\n",
        "temp_df = df_exploded['production_countries'].value_counts().nlargest(10)\n",
        "ax =sns.barplot(x=temp_df.index,y=temp_df.values, palette=\"deep\")\n",
        "plt.title('Top 10 Production countries by count')\n",
        "plt.ylabel('Count')\n",
        "plt.xlabel('Production Countries')\n",
        "sns.set(rc={'figure.figsize':(16, 6)})\n",
        "plt.show()\n"
      ],
      "metadata": {
        "colab": {
          "base_uri": "https://localhost:8080/",
          "height": 573
        },
        "id": "uNq6TC1AuFDM",
        "outputId": "9018e87e-0eb9-4434-892e-2572fce7736a"
      },
      "execution_count": null,
      "outputs": [
        {
          "output_type": "display_data",
          "data": {
            "text/plain": [
              "<Figure size 1600x600 with 1 Axes>"
            ],
            "image/png": "[encoded data removed]"
          },
          "metadata": {}
        }
      ]
    },
    {
      "cell_type": "markdown",
      "source": [
        "##### **Analysis Report**"
      ],
      "metadata": {
        "id": "uS1w_rVjyRKn"
      }
    },
    {
      "cell_type": "markdown",
      "source": [
        "* **Dominated by the US, followed by India, UK, Canada..**\n",
        "\n",
        "**Business Insights**\n",
        "* **Consider global content strategies and regional marketing for top countries.**\n",
        "\n"
      ],
      "metadata": {
        "id": "puQEg1AByB68"
      }
    },
    {
      "cell_type": "markdown",
      "source": [
        "#### **Chart - 6 - Credits Analysis**"
      ],
      "metadata": {
        "id": "ME6UJ86zzLUh"
      }
    },
    {
      "cell_type": "code",
      "source": [
        "# Top 10 Most Frequent actors\n",
        "temp_df = cleaned_credits_df[cleaned_credits_df['role'] == 'actor']['name'].value_counts().nlargest(10).reset_index()\n",
        "fig, axes = plt.subplots(3,2,figsize=(18, 10))\n",
        "sns.barplot(y=temp_df['name'],x = temp_df['count'],palette='deep',ax = axes[0,0])\n",
        "axes[0,0].set_title('Top 10 Most Frequent actors in Content Library')\n",
        "axes[0,0].set_ylabel('Actors')\n",
        "axes[0,0].set_xlabel('Count')\n",
        "# Top 10 Most Frequent directors\n",
        "temp_df = cleaned_credits_df[cleaned_credits_df['role'] == 'director']['name'].value_counts().nlargest(10).reset_index()\n",
        "sns.barplot(y=temp_df['name'],x = temp_df['count'],palette='deep',ax = axes[0,1])\n",
        "axes[0,1].set_title('Top 10 Most Frequent Directors in Content Library')\n",
        "axes[0,1].set_ylabel('Director')\n",
        "axes[0,1].set_xlabel('Count')\n",
        "# combine titles dataframe and credits dataframe and find Top 10 actors in high rated movies\n",
        "top_rated_movies = cleaned_titles_df[cleaned_titles_df['weighted_average_score'] > 7]\n",
        "top_rated_movies_credits = top_rated_movies.merge(cleaned_credits_df, left_on='id', right_on='id', how='inner')\n",
        "# Top 10 Most Frequent actors in top_rated_movies_credits dataframe\n",
        "temp_df = top_rated_movies_credits[top_rated_movies_credits['role'] == 'actor']['name'].value_counts().nlargest(10).reset_index()\n",
        "sns.barplot(y=temp_df['name'],x = temp_df['count'],palette='deep',ax = axes[1,0])\n",
        "axes[1,0].set_title('Top 10 Most Frequent Actors in High Rated Movies/TV Shows')\n",
        "axes[1,0].set_ylabel('Actors')\n",
        "axes[1,0].set_xlabel('Count')\n",
        "# Top 10 Most Frequent director in top_rated_movies_credits dataframe\n",
        "temp_df = top_rated_movies_credits[top_rated_movies_credits['role'] == 'director']['name'].value_counts().nlargest(10).reset_index()\n",
        "temp_df.head()\n",
        "sns.barplot(y=temp_df['name'],x = temp_df['count'],palette='deep',ax = axes[1,1])\n",
        "axes[1,1].set_title('Top 10 Most Frequent Directors in High Rated Movies/TV Shows')\n",
        "axes[1,1].set_ylabel('Director')\n",
        "axes[1,1].set_xlabel('Count')\n",
        "top_popularity_movies = cleaned_titles_df[cleaned_titles_df['tmdb_popularity'] > cleaned_titles_df['tmdb_popularity'].mean()]\n",
        "top_popularity_movies_credits = top_popularity_movies.merge(cleaned_credits_df, left_on='id', right_on='id', how='inner')\n",
        "# Top 10 Most Frequent actors in top_popularity_movies_credits dataframe\n",
        "temp_df = top_popularity_movies_credits[top_popularity_movies_credits['role'] == 'actor']['name'].value_counts().nlargest(10).reset_index()\n",
        "sns.barplot(y=temp_df['name'],x = temp_df['count'],palette='deep',ax = axes[2,0])\n",
        "axes[2,0].set_title('Top 10 Most Frequent Actors in Top Popular Movies/TV Shows')\n",
        "axes[2,0].set_ylabel('Actors')\n",
        "axes[2,0].set_xlabel('Count')\n",
        "# Top 10 Most Frequent directors in top_popularity_movies_credits dataframe\n",
        "temp_df = top_popularity_movies_credits[top_popularity_movies_credits['role'] == 'director']['name'].value_counts().nlargest(10).reset_index()\n",
        "sns.barplot(y=temp_df['name'],x = temp_df['count'],palette='deep',ax = axes[2,1])\n",
        "axes[2,1].set_title('Top 10 Most Frequent Directors in Top Popular Movies/TV Shows')\n",
        "axes[2,1].set_ylabel('Actors')\n",
        "axes[2,1].set_xlabel('Count')\n",
        "plt.tight_layout()\n",
        "plt.show()"
      ],
      "metadata": {
        "colab": {
          "base_uri": "https://localhost:8080/",
          "height": 796
        },
        "id": "ZKWzKosnzJ0u",
        "outputId": "255bf0fd-a950-428e-c5d5-23524464b07d"
      },
      "execution_count": null,
      "outputs": [
        {
          "output_type": "display_data",
          "data": {
            "text/plain": [
              "<Figure size 1800x1000 with 6 Axes>"
            ],
            "image/png": "[encoded data removed]"
          },
          "metadata": {}
        }
      ]
    },
    {
      "cell_type": "markdown",
      "source": [
        "##### **Analysis Report**"
      ],
      "metadata": {
        "id": "SpwxAQ1a-xIX"
      }
    },
    {
      "cell_type": "markdown",
      "source": [
        "* **Top 10 Frequent Actors by Content Count,High Rated Movies/Shows,High Popularity Movies/Shows are radically different.**\n",
        "* **Top 10 Frequent Directors by Content Count,High Rated Movies/Shows,High Popularity Movies/Shows are radically different.**\n"
      ],
      "metadata": {
        "id": "buZ3W52X_BJd"
      }
    },
    {
      "cell_type": "markdown",
      "source": [
        "**Business Insights**\n",
        "* **Cast Actors from Top Rated/Popularity chart data, Very few Top Rated/Popularity Actors are available in content libary.**\n",
        "* **Cast Directors from Top Rated/Popularity chart data, Very few Top Rated/Popularity Dircetors are available in content libary.**"
      ],
      "metadata": {
        "id": "SbTCdOWQ5j_A"
      }
    },
    {
      "cell_type": "markdown",
      "source": [
        "# **Conclusion/Business Insights**"
      ],
      "metadata": {
        "id": "gCX9965dhzqZ"
      }
    },
    {
      "cell_type": "markdown",
      "source": [
        "* **Focus more on Increasing the number of Quality TV Shows Content.**\n",
        "* **Remove Low TMDB Popularity movies or Low IMDB Rated movies for Cost Saving.**\n",
        "* **Focus on quality.Longer/Shorter runtime is not equal to better IMDb score/TMDb score.**\n",
        "* **Scores from different sources IMDb and TMDb are positively correlated.**\n",
        "* **Consistent quality since the 1940s.**\n",
        "* **Second Largest Rating Drop in recent decade Indicating potential fatigue or shifts in rating behaviors.**\n",
        "* **Add more Fantasy,scifi Genre Movies/TV Shows. Because Fantasy and scifi are most popular and their respective content counts are low.**\n",
        "* **Reduce the Drama genre Movies/TV Shows with low ratings for cost saving,since Drame genre is not popular.**\n",
        "* **Cast Actors from Top Rated/Popularity chart data, Very few Top Rated/Popularity Actors are available in content libary.**\n",
        "* **Cast Directors from Top Rated/Popularity chart data, Very few Top Rated/Popularity Dircetors are available in content libary.**\n"
      ],
      "metadata": {
        "id": "Fjb1IsQkh3yE"
      }
    },
    {
      "cell_type": "markdown",
      "source": [
        "PDF copy (colab) : https://drive.google.com/file/d/1yPoYbOi0DnzBjZ4iuZjtvQSxy7FtUlc2/view?usp=sharing\n",
        "\n",
        "PDF copy(non-colab) : https://drive.google.com/file/d/1FggL8DQZDMukkLmpMcoCP_zgbmgvHHbu/view?usp=sharing\n",
        "\n",
        "Video Explanation: https://drive.google.com/file/d/1WOMUUgoH77pNdrSOtggSTTY-W_i6iFn1/view?usp=sharing"
      ],
      "metadata": {
        "id": "RvxNPSJS6t_7"
      }
    }
  ]
}